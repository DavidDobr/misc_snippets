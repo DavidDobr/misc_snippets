{
 "cells": [
  {
   "cell_type": "code",
   "execution_count": 3,
   "metadata": {
    "collapsed": true
   },
   "outputs": [],
   "source": [
    "import os\n",
    "import glob\n",
    "import datetime"
   ]
  },
  {
   "cell_type": "code",
   "execution_count": 7,
   "metadata": {
    "collapsed": false
   },
   "outputs": [
    {
     "name": "stdout",
     "output_type": "stream",
     "text": [
      "Search pattern:\n",
      ">S\n"
     ]
    },
    {
     "data": {
      "text/plain": [
       "['Strugatskie Vse Knigi (txt)']"
      ]
     },
     "execution_count": 7,
     "metadata": {},
     "output_type": "execute_result"
    }
   ],
   "source": [
    "IN = input('Search pattern:\\n>').replace(' ', '*')\n",
    "dir_to_edit = glob.glob('*'+IN+'*')\n",
    "dir_to_edit"
   ]
  },
  {
   "cell_type": "code",
   "execution_count": 8,
   "metadata": {
    "collapsed": false
   },
   "outputs": [
    {
     "data": {
      "text/plain": [
       "'Strugatskie Vse Knigi (txt)'"
      ]
     },
     "execution_count": 8,
     "metadata": {},
     "output_type": "execute_result"
    }
   ],
   "source": [
    "dir_to_edit = dir_to_edit[0]\n",
    "dir_to_edit"
   ]
  },
  {
   "cell_type": "code",
   "execution_count": 10,
   "metadata": {
    "collapsed": true
   },
   "outputs": [],
   "source": [
    "from os.path import join"
   ]
  },
  {
   "cell_type": "code",
   "execution_count": 16,
   "metadata": {
    "collapsed": false
   },
   "outputs": [
    {
     "name": "stdout",
     "output_type": "stream",
     "text": [
      "Strugatskie Vse Knigi (txt)/stories/22_bzl\n",
      "Strugatskie Vse Knigi (txt)/stories/22_bzl.txt\n",
      "--------------------------------------------------\n",
      "Strugatskie Vse Knigi (txt)/stories/05_chip\n",
      "Strugatskie Vse Knigi (txt)/stories/05_chip.txt\n",
      "--------------------------------------------------\n",
      "Strugatskie Vse Knigi (txt)/stories/06_shs\n",
      "Strugatskie Vse Knigi (txt)/stories/06_shs.txt\n",
      "--------------------------------------------------\n",
      "Strugatskie Vse Knigi (txt)/stories/.txt\n",
      "Strugatskie Vse Knigi (txt)/stories/.txt.txt\n",
      "--------------------------------------------------\n",
      "Strugatskie Vse Knigi (txt)/stories/29_oupa\n",
      "Strugatskie Vse Knigi (txt)/stories/29_oupa.txt\n",
      "--------------------------------------------------\n",
      "Strugatskie Vse Knigi (txt)/stories/14_s\n",
      "Strugatskie Vse Knigi (txt)/stories/14_s.txt\n",
      "--------------------------------------------------\n",
      "Strugatskie Vse Knigi (txt)/stories/37_bns-07\n",
      "Strugatskie Vse Knigi (txt)/stories/37_bns-07.txt\n",
      "--------------------------------------------------\n",
      "Strugatskie Vse Knigi (txt)/stories/42_oz\n",
      "Strugatskie Vse Knigi (txt)/stories/42_oz.txt\n",
      "--------------------------------------------------\n",
      "Strugatskie Vse Knigi (txt)/stories/18_dr\n",
      "Strugatskie Vse Knigi (txt)/stories/18_dr.txt\n",
      "--------------------------------------------------\n",
      "Strugatskie Vse Knigi (txt)/stories/17_pkb\n",
      "Strugatskie Vse Knigi (txt)/stories/17_pkb.txt\n",
      "--------------------------------------------------\n",
      "Strugatskie Vse Knigi (txt)/stories/11_pna\n",
      "Strugatskie Vse Knigi (txt)/stories/11_pna.txt\n",
      "--------------------------------------------------\n",
      "Strugatskie Vse Knigi (txt)/stories/23_bns-03\n",
      "Strugatskie Vse Knigi (txt)/stories/23_bns-03.txt\n",
      "--------------------------------------------------\n",
      "Strugatskie Vse Knigi (txt)/stories/40_vgv\n",
      "Strugatskie Vse Knigi (txt)/stories/40_vgv.txt\n",
      "--------------------------------------------------\n",
      "Strugatskie Vse Knigi (txt)/stories/31_pno\n",
      "Strugatskie Vse Knigi (txt)/stories/31_pno.txt\n",
      "--------------------------------------------------\n",
      "Strugatskie Vse Knigi (txt)/stories/12_bns-01\n",
      "Strugatskie Vse Knigi (txt)/stories/12_bns-01.txt\n",
      "--------------------------------------------------\n",
      "Strugatskie Vse Knigi (txt)/stories/04_sr\n",
      "Strugatskie Vse Knigi (txt)/stories/04_sr.txt\n",
      "--------------------------------------------------\n",
      "Strugatskie Vse Knigi (txt)/stories/07_is\n",
      "Strugatskie Vse Knigi (txt)/stories/07_is.txt\n",
      "--------------------------------------------------\n",
      "Strugatskie Vse Knigi (txt)/stories/00_bns-00\n",
      "Strugatskie Vse Knigi (txt)/stories/00_bns-00.txt\n",
      "--------------------------------------------------\n",
      "Strugatskie Vse Knigi (txt)/stories/10_chp\n",
      "Strugatskie Vse Knigi (txt)/stories/10_chp.txt\n",
      "--------------------------------------------------\n",
      "Strugatskie Vse Knigi (txt)/stories/09_chpp\n",
      "Strugatskie Vse Knigi (txt)/stories/09_chpp.txt\n",
      "--------------------------------------------------\n",
      "Strugatskie Vse Knigi (txt)/stories/38_zhvm\n",
      "Strugatskie Vse Knigi (txt)/stories/38_zhvm.txt\n",
      "--------------------------------------------------\n",
      "Strugatskie Vse Knigi (txt)/stories/36_podin\n",
      "Strugatskie Vse Knigi (txt)/stories/36_podin.txt\n",
      "--------------------------------------------------\n",
      "Strugatskie Vse Knigi (txt)/stories/27_vnm\n",
      "Strugatskie Vse Knigi (txt)/stories/27_vnm.txt\n",
      "--------------------------------------------------\n",
      "Strugatskie Vse Knigi (txt)/stories/26_uns\n",
      "Strugatskie Vse Knigi (txt)/stories/26_uns.txt\n",
      "--------------------------------------------------\n",
      "Strugatskie Vse Knigi (txt)/stories/24_hvv\n",
      "Strugatskie Vse Knigi (txt)/stories/24_hvv.txt\n",
      "--------------------------------------------------\n",
      "Strugatskie Vse Knigi (txt)/stories/01_filip-01\n",
      "Strugatskie Vse Knigi (txt)/stories/01_filip-01.txt\n",
      "--------------------------------------------------\n",
      "Strugatskie Vse Knigi (txt)/stories/02_sbt\n",
      "Strugatskie Vse Knigi (txt)/stories/02_sbt.txt\n",
      "--------------------------------------------------\n",
      "Strugatskie Vse Knigi (txt)/stories/33_bns-06\n",
      "Strugatskie Vse Knigi (txt)/stories/33_bns-06.txt\n",
      "--------------------------------------------------\n",
      "Strugatskie Vse Knigi (txt)/stories/34_zmldks\n",
      "Strugatskie Vse Knigi (txt)/stories/34_zmldks.txt\n",
      "--------------------------------------------------\n",
      "Strugatskie Vse Knigi (txt)/stories/08_ze\n",
      "Strugatskie Vse Knigi (txt)/stories/08_ze.txt\n",
      "--------------------------------------------------\n",
      "Strugatskie Vse Knigi (txt)/stories/35_go\n",
      "Strugatskie Vse Knigi (txt)/stories/35_go.txt\n",
      "--------------------------------------------------\n",
      "Strugatskie Vse Knigi (txt)/stories/16_bns-02\n",
      "Strugatskie Vse Knigi (txt)/stories/16_bns-02.txt\n",
      "--------------------------------------------------\n",
      "Strugatskie Vse Knigi (txt)/stories/41_bns-08\n",
      "Strugatskie Vse Knigi (txt)/stories/41_bns-08.txt\n",
      "--------------------------------------------------\n",
      "Strugatskie Vse Knigi (txt)/stories/03_izvne\n",
      "Strugatskie Vse Knigi (txt)/stories/03_izvne.txt\n",
      "--------------------------------------------------\n",
      "Strugatskie Vse Knigi (txt)/stories/13_pxxiiv\n",
      "Strugatskie Vse Knigi (txt)/stories/13_pxxiiv.txt\n",
      "--------------------------------------------------\n",
      "Strugatskie Vse Knigi (txt)/stories/25_b\n",
      "Strugatskie Vse Knigi (txt)/stories/25_b.txt\n",
      "--------------------------------------------------\n",
      "Strugatskie Vse Knigi (txt)/stories/15_vniv\n",
      "Strugatskie Vse Knigi (txt)/stories/15_vniv.txt\n",
      "--------------------------------------------------\n",
      "Strugatskie Vse Knigi (txt)/stories/21_plnpp\n",
      "Strugatskie Vse Knigi (txt)/stories/21_plnpp.txt\n",
      "--------------------------------------------------\n",
      "Strugatskie Vse Knigi (txt)/stories/28_bns-04\n",
      "Strugatskie Vse Knigi (txt)/stories/28_bns-04.txt\n",
      "--------------------------------------------------\n",
      "Strugatskie Vse Knigi (txt)/stories/39_hs_gl\n",
      "Strugatskie Vse Knigi (txt)/stories/39_hs_gl.txt\n",
      "--------------------------------------------------\n",
      "Strugatskie Vse Knigi (txt)/stories/30_m\n",
      "Strugatskie Vse Knigi (txt)/stories/30_m.txt\n",
      "--------------------------------------------------\n",
      "Strugatskie Vse Knigi (txt)/stories/20_pnvs\n",
      "Strugatskie Vse Knigi (txt)/stories/20_pnvs.txt\n",
      "--------------------------------------------------\n",
      "Strugatskie Vse Knigi (txt)/stories/43_zhgp\n",
      "Strugatskie Vse Knigi (txt)/stories/43_zhgp.txt\n",
      "--------------------------------------------------\n",
      "Strugatskie Vse Knigi (txt)/stories/19_tbb\n",
      "Strugatskie Vse Knigi (txt)/stories/19_tbb.txt\n",
      "--------------------------------------------------\n",
      "Strugatskie Vse Knigi (txt)/stories/32_pip\n",
      "Strugatskie Vse Knigi (txt)/stories/32_pip.txt\n",
      "--------------------------------------------------\n",
      "Strugatskie Vse Knigi (txt)/scripts/50_t\n",
      "Strugatskie Vse Knigi (txt)/scripts/50_t.txt\n",
      "--------------------------------------------------\n",
      "Strugatskie Vse Knigi (txt)/scripts/.txt\n",
      "Strugatskie Vse Knigi (txt)/scripts/.txt.txt\n",
      "--------------------------------------------------\n",
      "Strugatskie Vse Knigi (txt)/scripts/48_dou\n",
      "Strugatskie Vse Knigi (txt)/scripts/48_dou.txt\n",
      "--------------------------------------------------\n",
      "Strugatskie Vse Knigi (txt)/scripts/47_stalker\n",
      "Strugatskie Vse Knigi (txt)/scripts/47_stalker.txt\n",
      "--------------------------------------------------\n",
      "Strugatskie Vse Knigi (txt)/scripts/44_dz\n",
      "Strugatskie Vse Knigi (txt)/scripts/44_dz.txt\n",
      "--------------------------------------------------\n",
      "Strugatskie Vse Knigi (txt)/scripts/45_ch\n",
      "Strugatskie Vse Knigi (txt)/scripts/45_ch.txt\n",
      "--------------------------------------------------\n",
      "Strugatskie Vse Knigi (txt)/scripts/46_mzh\n",
      "Strugatskie Vse Knigi (txt)/scripts/46_mzh.txt\n",
      "--------------------------------------------------\n",
      "Strugatskie Vse Knigi (txt)/scripts/51_bns-09\n",
      "Strugatskie Vse Knigi (txt)/scripts/51_bns-09.txt\n",
      "--------------------------------------------------\n",
      "Strugatskie Vse Knigi (txt)/scripts/49_ple\n",
      "Strugatskie Vse Knigi (txt)/scripts/49_ple.txt\n",
      "--------------------------------------------------\n",
      "Strugatskie Vse Knigi (txt)/other/.txt\n",
      "Strugatskie Vse Knigi (txt)/other/.txt.txt\n",
      "--------------------------------------------------\n",
      "Strugatskie Vse Knigi (txt)/other/74_berkova\n",
      "Strugatskie Vse Knigi (txt)/other/74_berkova.txt\n",
      "--------------------------------------------------\n",
      "Strugatskie Vse Knigi (txt)/other/76_bms\n",
      "Strugatskie Vse Knigi (txt)/other/76_bms.txt\n",
      "--------------------------------------------------\n",
      "Strugatskie Vse Knigi (txt)/other/75_klueva\n",
      "Strugatskie Vse Knigi (txt)/other/75_klueva.txt\n",
      "--------------------------------------------------\n",
      "Strugatskie Vse Knigi (txt)/other/78_tostern\n",
      "Strugatskie Vse Knigi (txt)/other/78_tostern.txt\n",
      "--------------------------------------------------\n",
      "Strugatskie Vse Knigi (txt)/other/73_filip-11\n",
      "Strugatskie Vse Knigi (txt)/other/73_filip-11.txt\n",
      "--------------------------------------------------\n",
      "Strugatskie Vse Knigi (txt)/other/77_esit_ins\n",
      "Strugatskie Vse Knigi (txt)/other/77_esit_ins.txt\n",
      "--------------------------------------------------\n",
      "Strugatskie Vse Knigi (txt)/other/MEM_TKA/79_mem_tka\n",
      "Strugatskie Vse Knigi (txt)/other/MEM_TKA/79_mem_tka.txt\n",
      "--------------------------------------------------\n",
      "Strugatskie Vse Knigi (txt)/other/MEM_TKA/.txt\n",
      "Strugatskie Vse Knigi (txt)/other/MEM_TKA/.txt.txt\n",
      "--------------------------------------------------\n",
      "Strugatskie Vse Knigi (txt)/other/ABRAMOVA/.txt\n",
      "Strugatskie Vse Knigi (txt)/other/ABRAMOVA/.txt.txt\n",
      "--------------------------------------------------\n",
      "Strugatskie Vse Knigi (txt)/other/ABRAMOVA/85_abramova\n",
      "Strugatskie Vse Knigi (txt)/other/ABRAMOVA/85_abramova.txt\n",
      "--------------------------------------------------\n",
      "Strugatskie Vse Knigi (txt)/other/MEM_REV/.txt\n",
      "Strugatskie Vse Knigi (txt)/other/MEM_REV/.txt.txt\n",
      "--------------------------------------------------\n",
      "Strugatskie Vse Knigi (txt)/other/MEM_REV/80_mem_rev\n",
      "Strugatskie Vse Knigi (txt)/other/MEM_REV/80_mem_rev.txt\n",
      "--------------------------------------------------\n",
      "Strugatskie Vse Knigi (txt)/other/MEM_NUD/.txt\n",
      "Strugatskie Vse Knigi (txt)/other/MEM_NUD/.txt.txt\n",
      "--------------------------------------------------\n",
      "Strugatskie Vse Knigi (txt)/other/MEM_NUD/81_mem_nud\n",
      "Strugatskie Vse Knigi (txt)/other/MEM_NUD/81_mem_nud.txt\n",
      "--------------------------------------------------\n",
      "Strugatskie Vse Knigi (txt)/other/MEM_CHER/.txt\n",
      "Strugatskie Vse Knigi (txt)/other/MEM_CHER/.txt.txt\n",
      "--------------------------------------------------\n",
      "Strugatskie Vse Knigi (txt)/other/MEM_CHER/83_mem_cher\n",
      "Strugatskie Vse Knigi (txt)/other/MEM_CHER/83_mem_cher.txt\n",
      "--------------------------------------------------\n",
      "Strugatskie Vse Knigi (txt)/other/MEM_MIR/.txt\n",
      "Strugatskie Vse Knigi (txt)/other/MEM_MIR/.txt.txt\n",
      "--------------------------------------------------\n",
      "Strugatskie Vse Knigi (txt)/other/MEM_MIR/82_mem_mir\n",
      "Strugatskie Vse Knigi (txt)/other/MEM_MIR/82_mem_mir.txt\n",
      "--------------------------------------------------\n",
      "Strugatskie Vse Knigi (txt)/other/ARKANOV/.txt\n",
      "Strugatskie Vse Knigi (txt)/other/ARKANOV/.txt.txt\n",
      "--------------------------------------------------\n",
      "Strugatskie Vse Knigi (txt)/other/ARKANOV/84_arkanov\n",
      "Strugatskie Vse Knigi (txt)/other/ARKANOV/84_arkanov.txt\n",
      "--------------------------------------------------\n",
      "Strugatskie Vse Knigi (txt)/unpublished_publ/60_zvt\n",
      "Strugatskie Vse Knigi (txt)/unpublished_publ/60_zvt.txt\n",
      "--------------------------------------------------\n",
      "Strugatskie Vse Knigi (txt)/unpublished_publ/.txt\n",
      "Strugatskie Vse Knigi (txt)/unpublished_publ/.txt.txt\n",
      "--------------------------------------------------\n",
      "Strugatskie Vse Knigi (txt)/unpublished_publ/58_chts\n",
      "Strugatskie Vse Knigi (txt)/unpublished_publ/58_chts.txt\n",
      "--------------------------------------------------\n",
      "Strugatskie Vse Knigi (txt)/unpublished_publ/57_kpk\n",
      "Strugatskie Vse Knigi (txt)/unpublished_publ/57_kpk.txt\n",
      "--------------------------------------------------\n",
      "Strugatskie Vse Knigi (txt)/unpublished_publ/62_ksne\n",
      "Strugatskie Vse Knigi (txt)/unpublished_publ/62_ksne.txt\n",
      "--------------------------------------------------\n",
      "Strugatskie Vse Knigi (txt)/unpublished_publ/60_publ\n",
      "Strugatskie Vse Knigi (txt)/unpublished_publ/60_publ.txt\n",
      "--------------------------------------------------\n",
      "Strugatskie Vse Knigi (txt)/unpublished_publ/64_v\n",
      "Strugatskie Vse Knigi (txt)/unpublished_publ/64_v.txt\n",
      "--------------------------------------------------\n",
      "Strugatskie Vse Knigi (txt)/unpublished_publ/70_a\n",
      "Strugatskie Vse Knigi (txt)/unpublished_publ/70_a.txt\n",
      "--------------------------------------------------\n",
      "Strugatskie Vse Knigi (txt)/unpublished_publ/67_gts\n",
      "Strugatskie Vse Knigi (txt)/unpublished_publ/67_gts.txt\n",
      "--------------------------------------------------\n",
      "Strugatskie Vse Knigi (txt)/unpublished_publ/63_sbp\n",
      "Strugatskie Vse Knigi (txt)/unpublished_publ/63_sbp.txt\n",
      "--------------------------------------------------\n",
      "Strugatskie Vse Knigi (txt)/unpublished_publ/66_va\n",
      "Strugatskie Vse Knigi (txt)/unpublished_publ/66_va.txt\n",
      "--------------------------------------------------\n",
      "Strugatskie Vse Knigi (txt)/unpublished_publ/69_mlch\n",
      "Strugatskie Vse Knigi (txt)/unpublished_publ/69_mlch.txt\n",
      "--------------------------------------------------\n",
      "Strugatskie Vse Knigi (txt)/unpublished_publ/68_dk\n",
      "Strugatskie Vse Knigi (txt)/unpublished_publ/68_dk.txt\n",
      "--------------------------------------------------\n",
      "Strugatskie Vse Knigi (txt)/unpublished_publ/72_bns-11\n",
      "Strugatskie Vse Knigi (txt)/unpublished_publ/72_bns-11.txt\n",
      "--------------------------------------------------\n",
      "Strugatskie Vse Knigi (txt)/unpublished_publ/61_za\n",
      "Strugatskie Vse Knigi (txt)/unpublished_publ/61_za.txt\n",
      "--------------------------------------------------\n",
      "Strugatskie Vse Knigi (txt)/unpublished_publ/65_n\n",
      "Strugatskie Vse Knigi (txt)/unpublished_publ/65_n.txt\n",
      "--------------------------------------------------\n",
      "Strugatskie Vse Knigi (txt)/unpublished_publ/59_pg\n",
      "Strugatskie Vse Knigi (txt)/unpublished_publ/59_pg.txt\n",
      "--------------------------------------------------\n",
      "Strugatskie Vse Knigi (txt)/Vititsk_Yaroslav/.txt\n",
      "Strugatskie Vse Knigi (txt)/Vititsk_Yaroslav/.txt.txt\n",
      "--------------------------------------------------\n",
      "Strugatskie Vse Knigi (txt)/Vititsk_Yaroslav/53_pzhnv\n",
      "Strugatskie Vse Knigi (txt)/Vititsk_Yaroslav/53_pzhnv.txt\n",
      "--------------------------------------------------\n",
      "Strugatskie Vse Knigi (txt)/Vititsk_Yaroslav/54_dsl\n",
      "Strugatskie Vse Knigi (txt)/Vititsk_Yaroslav/54_dsl.txt\n",
      "--------------------------------------------------\n",
      "Strugatskie Vse Knigi (txt)/Vititsk_Yaroslav/52_evp\n",
      "Strugatskie Vse Knigi (txt)/Vititsk_Yaroslav/52_evp.txt\n",
      "--------------------------------------------------\n",
      "Strugatskie Vse Knigi (txt)/Vititsk_Yaroslav/55_pp\n",
      "Strugatskie Vse Knigi (txt)/Vititsk_Yaroslav/55_pp.txt\n",
      "--------------------------------------------------\n",
      "Strugatskie Vse Knigi (txt)/Vititsk_Yaroslav/56_bns-10\n",
      "Strugatskie Vse Knigi (txt)/Vititsk_Yaroslav/56_bns-10.txt\n",
      "--------------------------------------------------\n",
      "Strugatskie Vse Knigi (txt)/izbrpubl/.txt\n",
      "Strugatskie Vse Knigi (txt)/izbrpubl/.txt.txt\n",
      "--------------------------------------------------\n",
      "Strugatskie Vse Knigi (txt)/izbrpubl/60_publ\n",
      "Strugatskie Vse Knigi (txt)/izbrpubl/60_publ.txt\n",
      "--------------------------------------------------\n"
     ]
    }
   ],
   "source": [
    "# rename all .txt\n",
    "for root, dirs, files in os.walk(dir_to_edit):\n",
    "    #print('-->',root, files)\n",
    "    for f in files:\n",
    "        filepath = join(root, f)\n",
    "        name = ''.join(f.split('.')[:-1]).lower()\n",
    "        print(filepath)\n",
    "        print(join(root, f) + '.txt')\n",
    "        print('-'*50)\n",
    "        try:\n",
    "            os.rename(filepath, join(root, f) + '.txt')\n",
    "        except KeyError:\n",
    "            print(\"MISSING FILE {}\".format(filepath))"
   ]
  },
  {
   "cell_type": "code",
   "execution_count": null,
   "metadata": {
    "collapsed": true
   },
   "outputs": [],
   "source": []
  },
  {
   "cell_type": "code",
   "execution_count": 22,
   "metadata": {
    "collapsed": true
   },
   "outputs": [],
   "source": [
    "file_name = 'Strugatskie Vse Knigi (txt)/stories/14_s.txt'"
   ]
  },
  {
   "cell_type": "code",
   "execution_count": 23,
   "metadata": {
    "collapsed": true
   },
   "outputs": [],
   "source": [
    "import codecs"
   ]
  },
  {
   "cell_type": "code",
   "execution_count": null,
   "metadata": {
    "collapsed": true
   },
   "outputs": [],
   "source": [
    "w.decode('cp1251')"
   ]
  },
  {
   "cell_type": "code",
   "execution_count": 38,
   "metadata": {
    "collapsed": false
   },
   "outputs": [
    {
     "name": "stdout",
     "output_type": "stream",
     "text": [
      "b'\\r\\n                                \\xe2\\x80\\x98\\xe2\\x80\\x99\\xd0\\x82\\xe2\\x80\\xa0\\xe2\\x80\\xa6\\xd1\\x92\\xe2\\x80\\xba\\r\\n\\r\\n\\r\\n                                 \\xd0\\x8f\\xd1\\x92\\xd0\\x8b\\xe2\\x80\\xb9\\xd0\\x8b\\xd1\\x93\\r\\n\\r\\n\\r\\n     \\xd0\\x8f\\xc2\\xae\\xc2\\xa4\\xd0\\x84\\xc2\\xa0\\xd0\\xb2\\xd0\\x81\\xc2\\xab \\xd0\\x88\\xd0\\xb0\\xc2\\xae\\xc2\\xac\\xc2\\xa0\\xc2\\xa4\\xc2\\xad\\xd0\\xbb\\xc2\\xa9 \\xd0\\x84\\xd0\\xb0\\xc2\\xa0\\xd0\\xb1\\xc2\\xad\\xc2\\xae-\\xd0\\x8e\\xd2\\x90\\xc2\\xab\\xd0\\xbb\\xc2\\xa9 \\xc2\\xa0\\xd1\\x9e\\xd0\\xb2\\xc2\\xae\\xd0\\x8e\\xd0\\xb3\\xd0\\xb1 \\xd0\\x81 \\xc2\\xae\\xd0\\xb1\\xd0\\xb2\\xc2\\xa0\\xc2\\xad\\xc2\\xae\\xd1\\x9e\\xd0\\x81\\xc2\\xab\\xd0\\xb1\\xd0\\xbf, \\xc2\\xac\\xd2\\x90\\xd0\\xb0\\xc2\\xad\\xc2\\xae \\xd0\\x87\\xc2\\xae\\xd0\\xb5\\xd0\\xb0\\xd0\\xbe-\\r\\n\\xd0\\x84\\xd0\\x81\\xd1\\x9e\\xc2\\xa0\\xd0\\xbf \\xc2\\xa4\\xd1\\x9e\\xd0\\x81\\xd0\\x88\\xc2\\xa0\\xd0\\xb2\\xd2\\x90\\xc2\\xab\\xd2\\x90\\xc2\\xac. \\xd0\\x8b\\xd0\\xb2\\xc2\\xab\\xd2\\x90\\xd0\\xb2\\xc2\\xa0\\xd0\\xbe\\xd0\\xb9\\xd0\\x81\\xd0\\xb5 \\xd0\\x87\\xd0\\xb0\\xd0\\x81\\xd0\\x88\\xc2\\xab\\xc2\\xa0\\xd0\\xb1\\xd0\\x81\\xc2\\xab\\xd0\\x81 \\xd0\\xb1\\xc2\\xa0\\xc2\\xa4\\xd0\\x81\\xd0\\xb2\\xd0\\xbc\\xd0\\xb1\\xd0\\xbf.\\r\\n     -- \\xe2\\x80\\x94\\xd0\\xb2\\xc2\\xae \\xc2\\xa6, \\xd0\\xb1\\xd0\\xb2\\xd0\\xb3\\xd0\\x87\\xc2\\xa0\\xc2\\xa9\\xd0\\xb2\\xd2\\x90, -- \\xd0\\xb1\\xd0\\x84\\xc2\\xa0\\xc2\\xa7\\xc2\\xa0\\xc2\\xab \\xe2\\x80\\x9e\\xc2\\xa0\\xd0\\xb3\\xd0\\x88\\xd2\\x90.\\r\\n     \\xd0\\x83\\xd0\\xbb\\xd0\\x84\\xc2\\xae\\xd1\\x9e \\xd0\\x87\\xd0\\xb0\\xc2\\xae\\xd1\\x9e\\xc2\\xae\\xd0\\xb0\\xd0\\xb7\\xc2\\xa0\\xc2\\xab:\\r\\n     -- \\xe2\\x80\\x9c\\xd0\\xb1\\xd0\\x87\\xd2\\x90\\xd2\\x90\\xc2\\xac. \\xd0\\x8f\\xc2\\xae\\xd0\\x84\\xc2\\xa0 \\xc2\\xae\\xc2\\xad\\xd0\\x81 \\xd1\\x9e\\xd0\\xb1\\xd2\\x90 \\xd0\\xb3\\xd0\\xb1\\xd0\\xbf\\xc2\\xa4\\xd0\\xb3\\xd0\\xb2\\xd0\\xb1\\xd0\\xbf...\\r\\n     \\xd0\\x8b\\xc2\\xad \\xd0\\x81\\xd0\\xb1\\xd0\\x87\\xc2\\xae\\xc2\\xa4\\xc2\\xab\\xc2\\xae\\xd0\\x8e\\xd0\\xbc\\xd0\\xbf  \\xd0\\xb1\\xc2\\xac\\xc2\\xae\\xd0\\xb2\\xd0\\xb0\\xd2\\x90\\xc2\\xab, \\xd0\\x84\\xc2\\xa0\\xd0\\x84 \\xd0\\x87\\xc2\\xa0\\xd0\\xb1\\xd0\\xb1\\xc2\\xa0\\xc2\\xa6\\xd0\\x81\\xd0\\xb0\\xd0\\xbb  \\xc2\\xae\\xc2\\xa4\\xd0\\x81\\xc2\\xad \\xc2\\xa7\\xc2\\xa0  \\xc2\\xa4\\xd0\\xb0\\xd0\\xb3\\xd0\\x88\\xd0\\x81\\xc2\\xac  \\xc2\\xad\\xd2\\x90\\xd0\\xb2\\xc2\\xae\\xd0\\xb0\\xc2\\xae\\xd0\\x87\\xc2\\xab\\xd0\\x81\\xd1\\x9e\\xc2\\xae\\r\\n\\xd0\\x87\\xc2\\xae\\xc2\\xa4\\xc2\\xad\\xd0\\x81\\xc2\\xac\\xc2\\xa0\\xd0\\xbe\\xd0\\xb2\\xd0\\xb1\\xd0\\xbf \\xd1\\x9e \\xc2\\xa0\\xd1\\x9e\\xd0\\xb2\\xc2\\xae\\xd0\\x8e\\xd0\\xb3\\xd0\\xb1.  \\xd0\\x8f\\xc2\\xa0\\xd0\\xb1\\xd0\\xb1\\xc2\\xa0\\xc2\\xa6\\xd0\\x81\\xd0\\xb0\\xc2\\xae\\xd1\\x9e \\xd0\\x8e\\xd0\\xbb\\xc2\\xab\\xc2\\xae \\xd0\\xb7\\xd2\\x90\\xc2\\xab\\xc2\\xae\\xd1\\x9e\\xd2\\x90\\xd0\\x84 \\xd0\\xb1\\xd0\\xb2\\xc2\\xae. \\xd0\\x8f\\xd0\\xb0\\xc2\\xae\\xd1\\x9e\\xc2\\xae\\xc2\\xa6\\xc2\\xa0\\xd0\\xbe\\xd0\\xb9\\xd0\\x81\\xd0\\xb5 \\xd0\\x87\\xc2\\xae\\xd0\\xb7\\xd2\\x90\\xc2\\xac\\xd0\\xb3-\\r\\n\\xd0\\xb2\\xc2\\xae \\xd0\\x8e\\xd0\\xbb\\xc2\\xab\\xc2\\xae \\xd0\\xb1\\xc2\\xae\\xd1\\x9e\\xd0\\xb1\\xd2\\x90\\xc2\\xac \\xc2\\xad\\xd2\\x90\\xc2\\xac\\xc2\\xad\\xc2\\xae\\xd0\\x88\\xc2\\xae.\\r\\n     -- \\xe2\\x80\\xa6\\xd0\\xb1\\xc2\\xab\\xd0\\x81 \\xc2\\xae\\xc2\\xad\\xd0\\x81 \\xd0\\x8e\\xd0\\xb3\\xc2\\xa4\\xd0\\xb3\\xd0\\xb2 \\xd0\\x88\\xd0\\xb0\\xd0\\xb3\\xc2\\xa7\\xd0\\x81\\xd0\\xb2\\xd0\\xbc\\xd0\\xb1\\xd0\\xbf \\xd0\\xb2\\xc2\\xa0\\xd0\\x84\\xd0\\x81\\xc2\\xac\\xd0\\x81 \\xd0\\xb2\\xd2\\x90\\xc2\\xac\\xd0\\x87\\xc2\\xa0\\xc2\\xac\\xd0\\x81, -- \\xd0\\xb1\\xd0\\x84\\xc2\\xa0\\xc2\\xa7\\xc2\\xa0\\xc2\\xab \\xd1\\x93\\xd0\\xb0\\xd0\\x81\\xd0\\xb8\\xc2\\xa0, -- \\xd1\\x9e\\xc2\\xa0\\xc2\\xac\\r\\n\\xd0\\x84 \\xd0\\xb1\\xd0\\xb2\\xc2\\xa0\\xd0\\xb0\\xd0\\xb2\\xd0\\xb3 \\xc2\\xad\\xd2\\x90 \\xd0\\xb3\\xd0\\xb1\\xd0\\x87\\xd2\\x90\\xd0\\xb2\\xd0\\xbc.\\r\\n     \\xd0\\x83\\xd0\\xbb\\xd0\\x84\\xc2\\xae\\xd1\\x9e \\xd0\\xb1\\xd0\\xb2\\xd0\\xb0\\xc2\\xae\\xd0\\x88\\xc2\\xae \\xd0\\x87\\xc2\\xae\\xd0\\xb1\\xc2\\xac\\xc2\\xae\\xd0\\xb2\\xd0\\xb0\\xd2\\x90\\xc2\\xab \\xc2\\xad\\xc2\\xa0 \\xc2\\xad\\xd2\\x90\\xd0\\x88\\xc2\\xae.\\r\\n     -- \\xe2\\x80\\xa1\\xc2\\xa0\\xd0\\xb1\\xd0\\xb2\\xd2\\x90\\xd0\\x88\\xc2\\xad\\xd0\\x81 \\xd0\\xb0\\xd0\\xb3\\xd0\\x8e\\xc2\\xa0\\xd0\\xb8\\xd0\\x84\\xd0\\xb3, -- \\xd0\\xb1\\xd0\\x84\\xc2\\xa0\\xc2\\xa7\\xc2\\xa0\\xc2\\xab \\xc2\\xae\\xc2\\xad.\\r\\n     -- \\xd0\\x8f\\xc2\\xa0\\xd0\\x87, \\xc2\\xa6\\xc2\\xa0\\xd0\\xb0\\xd0\\x84\\xc2\\xae, -- \\xd0\\xb1\\xd0\\x84\\xc2\\xa0\\xc2\\xa7\\xc2\\xa0\\xc2\\xab \\xd1\\x93\\xd0\\xb0\\xd0\\x81\\xd0\\xb8\\xc2\\xa0.\\r\\n     -- \\xe2\\x80\\xa1\\xc2\\xa0\\xd0\\xb1\\xd0\\xb2\\xd2\\x90\\xd0\\x88\\xc2\\xad\\xd0\\x81 \\xd0\\xb0\\xd0\\xb3\\xd0\\x8e\\xc2\\xa0\\xd0\\xb8\\xd0\\x84\\xd0\\xb3, -- \\xd0\\x87\\xc2\\xae\\xd1\\x9e\\xd0\\xb2\\xc2\\xae\\xd0\\xb0\\xd0\\x81\\xc2\\xab \\xd0\\x83\\xd0\\xbb\\xd0\\x84\\xc2\\xae\\xd1\\x9e. -- \\xd0\\x8c\\xd2\\x90 \\xd0\\xb5\\xc2\\xae\\xc2\\xa4\\xd0\\x81 \\xd0\\xb0\\xc2\\xa0\\xd0\\xb1\\xd0\\xb5\\xc2\\xab\\xd0\\xbe\\xd0\\xb1\\xd0\\xb2\\xc2\\xa0\\xc2\\xad\\xc2\\xad\\xd0\\xbb\\xc2\\xa9.\\r\\n     -- \\xd0\\x8c\\xd2\\x90 \\xd0\\x8e\\xd2\\x90\\xd0\\xb0\\xd0\\x81 \\xd0\\x87\\xd0\\xb0\\xd0\\x81\\xc2\\xac\\xd2\\x90\\xd0\\xb0 \\xd0\\xb1 \\xc2\\xac\\xd2\\x90\\xc2\\xad\\xd0\\xbf, -- \\xd0\\xb1\\xd0\\x84\\xc2\\xa0\\xc2\\xa7\\xc2\\xa0\\xc2\\xab \\xd1\\x9b\\xd0\\xb0\\xd0\\x84\\xc2\\xae\\xd1\\x9e\\xd0\\xb1\\xd0\\x84\\xd0\\x81\\xc2\\xa9. -- \\xd0\\x8a\\xc2\\xad\\xd2\\x90 \\xc2\\xac\\xc2\\xae\\xc2\\xa6\\xc2\\xad\\xc2\\xae, \\xc2\\xa0 \\xd0\\xb2\\xd2\\x90\\xd0\\x8e\\xd2\\x90\\r\\n\\xd2\\x90\\xd0\\xb9\\xd2\\x90 \\xc2\\xad\\xd2\\x90\\xc2\\xab\\xd0\\xbc\\xc2\\xa7\\xd0\\xbf.\\r\\n     \\xe2\\x80\\x9e\\xc2\\xa0\\xd0\\xb3\\xd0\\x88\\xd2\\x90 \\xd1\\x9e\\xc2\\xa7\\xd0\\x88\\xc2\\xab\\xd0\\xbf\\xc2\\xad\\xd0\\xb3\\xc2\\xab  \\xc2\\xad\\xc2\\xa0 \\xc2\\xad\\xd2\\x90\\xd0\\x88\\xc2\\xae \\xd0\\x81 \\xc2\\xae\\xd0\\xb2\\xd1\\x9e\\xd2\\x90\\xc2\\xab  \\xd0\\x88\\xc2\\xab\\xc2\\xa0\\xc2\\xa7\\xc2\\xa0.  \\xd0\\x8c\\xd2\\x90  \\xd0\\xb5\\xc2\\xae\\xd0\\xb2\\xd2\\x90\\xc2\\xab\\xc2\\xae\\xd0\\xb1\\xd0\\xbc  \\xd0\\xb1\\xc2\\xac\\xc2\\xae\\xd0\\xb2\\xd0\\xb0\\xd2\\x90\\xd0\\xb2\\xd0\\xbc  \\xc2\\xad\\xc2\\xa0\\r\\n\\xd1\\x9b\\xd0\\xb0\\xd0\\x84\\xc2\\xae\\xd1\\x9e\\xd0\\xb1\\xd0\\x84\\xc2\\xae\\xd0\\x88\\xc2\\xae -- \\xc2\\xad\\xc2\\xa0 \\xd2\\x90\\xd0\\x88\\xc2\\xae  \\xd0\\xb3\\xd1\\x9e\\xd2\\x90\\xd0\\xb0\\xd2\\x90\\xc2\\xad\\xc2\\xad\\xc2\\xae\\xd2\\x90 \\xd0\\xb0\\xd0\\xbb\\xd0\\xb5\\xc2\\xab\\xc2\\xae\\xd1\\x9e\\xc2\\xa0\\xd0\\xb2\\xc2\\xae\\xd2\\x90  \\xc2\\xab\\xd0\\x81\\xd0\\xb6\\xc2\\xae  \\xd0\\xb1  \\xd0\\x8e\\xd0\\xb0\\xd0\\xbe\\xc2\\xa7'\n"
     ]
    }
   ],
   "source": [
    "with codecs.open(file_name, \"r\", encoding='cp1251', errors='ignore') as fdata:\n",
    "    data=fdata.read()\n",
    "\n",
    "print(data[:1000].encode('utf-8'))"
   ]
  },
  {
   "cell_type": "code",
   "execution_count": null,
   "metadata": {
    "collapsed": true
   },
   "outputs": [],
   "source": []
  }
 ],
 "metadata": {
  "kernelspec": {
   "display_name": "Python 3",
   "language": "python",
   "name": "python3"
  },
  "language_info": {
   "codemirror_mode": {
    "name": "ipython",
    "version": 3
   },
   "file_extension": ".py",
   "mimetype": "text/x-python",
   "name": "python",
   "nbconvert_exporter": "python",
   "pygments_lexer": "ipython3",
   "version": "3.6.0"
  }
 },
 "nbformat": 4,
 "nbformat_minor": 2
}
