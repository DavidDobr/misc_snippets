{
 "cells": [
  {
   "cell_type": "code",
   "execution_count": 22,
   "metadata": {
    "collapsed": true
   },
   "outputs": [],
   "source": [
    "import glob\n",
    "\n",
    "from PyPDF2 import PdfFileWriter, PdfFileReader"
   ]
  },
  {
   "cell_type": "code",
   "execution_count": 24,
   "metadata": {},
   "outputs": [
    {
     "data": {
      "text/plain": [
       "['2015_exc.pdf', '2016_exc.pdf', '2013_exc.pdf', '2014_exc.pdf']"
      ]
     },
     "execution_count": 24,
     "metadata": {},
     "output_type": "execute_result"
    }
   ],
   "source": [
    "glob.glob('*exc.pdf')"
   ]
  },
  {
   "cell_type": "code",
   "execution_count": 25,
   "metadata": {},
   "outputs": [
    {
     "name": "stdout",
     "output_type": "stream",
     "text": [
      "22\n",
      "24\n",
      "22\n",
      "22\n"
     ]
    },
    {
     "name": "stderr",
     "output_type": "stream",
     "text": [
      "PdfReadWarning: Xref table not zero-indexed. ID numbers for objects will be corrected. [pdf.py:1736]\n"
     ]
    }
   ],
   "source": [
    "# outObj is our output object\n",
    "outObj = PdfFileWriter()\n",
    "\n",
    "# create a blankPage obj to be used in odd-numbered docs\n",
    "blankPdf = PdfFileReader(open('blankpage.pdf',\"rb\"))\n",
    "blankPage = blankPdf.getPage(0)\n",
    "\n",
    "def is_odd(x):\n",
    "    return x % 2 == 1\n",
    "\n",
    "# iterate over original files\n",
    "for filename in glob.glob('*exc.pdf'):  \n",
    "    # open a file as inputpdf\n",
    "    inputPdf = PdfFileReader(open(filename,\"rb\"))\n",
    "    # Iterate over all pages (exlcluding first 4)\n",
    "    # and add them to outObj final object\n",
    "    for p in inputPdf.pages[4:]:\n",
    "        outObj.addPage(p)\n",
    "    \n",
    "    # if document was odd-numbered, add a blank page for symmetry\n",
    "    print(inputPdf.numPages)\n",
    "    if is_odd(inputPdf.numPages):\n",
    "        outObj.addPage(blankPage)\n",
    "        \n",
    "with open (\"outputfile.pdf\", \"wb\") as outFile:\n",
    "    outObj.write(outFile)"
   ]
  },
  {
   "cell_type": "code",
   "execution_count": null,
   "metadata": {
    "collapsed": true
   },
   "outputs": [],
   "source": [
    "app"
   ]
  }
 ],
 "metadata": {
  "kernelspec": {
   "display_name": "Python 3",
   "language": "python",
   "name": "python3"
  },
  "language_info": {
   "codemirror_mode": {
    "name": "ipython",
    "version": 3
   },
   "file_extension": ".py",
   "mimetype": "text/x-python",
   "name": "python",
   "nbconvert_exporter": "python",
   "pygments_lexer": "ipython3",
   "version": "3.6.1"
  }
 },
 "nbformat": 4,
 "nbformat_minor": 2
}
