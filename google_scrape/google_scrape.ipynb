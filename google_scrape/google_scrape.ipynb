{
 "cells": [
  {
   "cell_type": "code",
   "execution_count": 1,
   "metadata": {
    "collapsed": true
   },
   "outputs": [],
   "source": [
    "# https://github.com/abenassi/Google-Search-API\n",
    "# from google import google"
   ]
  },
  {
   "cell_type": "code",
   "execution_count": 2,
   "metadata": {
    "collapsed": true
   },
   "outputs": [],
   "source": [
    "import urllib.request\n",
    "import shutil\n",
    "\n",
    "def downlad_file(url, file_name):\n",
    "    with urllib.request.urlopen(url) as response, open(file_name, 'wb') as out_file:\n",
    "        shutil.copyfileobj(response, out_file)"
   ]
  },
  {
   "cell_type": "markdown",
   "metadata": {},
   "source": [
    "links = []\n",
    "for lect_num in range(1, 100):\n",
    "    num_page = 1\n",
    "    query = \"6.042J in-class problems solutions lecture {}\".format(str(lect_num).zfill(2))\n",
    "    search_results = google.search(query, num_page)\n",
    "    result = search_results[0]\n",
    "    print('Searching for: {}'.format(query))\n",
    "    print(result.name)\n",
    "    print(result.description)\n",
    "    print(result.link)\n",
    "    links += [result.link]\n",
    "    print('-' * 40)"
   ]
  },
  {
   "cell_type": "code",
   "execution_count": 3,
   "metadata": {
    "collapsed": true
   },
   "outputs": [],
   "source": [
    "#links"
   ]
  },
  {
   "cell_type": "code",
   "execution_count": 4,
   "metadata": {
    "collapsed": true
   },
   "outputs": [],
   "source": [
    "url_template = 'https://dspace.mit.edu/bitstream/handle/1721.1/104426/6-042j-spring-2010/contents/lecture-notes/MIT6_042JS10_lec{}_sol.pdf'"
   ]
  },
  {
   "cell_type": "code",
   "execution_count": 20,
   "metadata": {
    "scrolled": true
   },
   "outputs": [
    {
     "name": "stdout",
     "output_type": "stream",
     "text": [
      "Downloading MIT6_042JS10_lec01_sol.pdf\n",
      "Downloading MIT6_042JS10_lec02_sol.pdf\n",
      "Downloading MIT6_042JS10_lec03_sol.pdf\n",
      "Downloading MIT6_042JS10_lec04_sol.pdf\n",
      "Downloading MIT6_042JS10_lec05_sol.pdf\n",
      "Downloading MIT6_042JS10_lec06_sol.pdf\n",
      "Downloading MIT6_042JS10_lec07_sol.pdf\n",
      "Downloading MIT6_042JS10_lec08_sol.pdf\n",
      "Downloading MIT6_042JS10_lec09_sol.pdf\n",
      "Downloading MIT6_042JS10_lec10_sol.pdf\n",
      "Downloading MIT6_042JS10_lec11_sol.pdf\n",
      "Downloading MIT6_042JS10_lec12_sol.pdf\n",
      "Downloading MIT6_042JS10_lec13_sol.pdf\n",
      "Downloading MIT6_042JS10_lec14_sol.pdf\n",
      "Downloading MIT6_042JS10_lec15_sol.pdf\n",
      "Downloading MIT6_042JS10_lec16_sol.pdf\n",
      "Downloading MIT6_042JS10_lec17_sol.pdf\n",
      "Downloading MIT6_042JS10_lec18_sol.pdf\n",
      "Downloading MIT6_042JS10_lec19_sol.pdf\n",
      "Downloading MIT6_042JS10_lec20_sol.pdf\n",
      "Downloading MIT6_042JS10_lec21_sol.pdf\n",
      "Downloading MIT6_042JS10_lec22_sol.pdf\n",
      "Downloading MIT6_042JS10_lec23_sol.pdf\n",
      "Downloading MIT6_042JS10_lec24_sol.pdf\n",
      "Downloading MIT6_042JS10_lec25_sol.pdf\n",
      "Downloading MIT6_042JS10_lec26_sol.pdf\n",
      "Downloading MIT6_042JS10_lec27_sol.pdf\n",
      "Downloading MIT6_042JS10_lec28_sol.pdf\n",
      "Downloading MIT6_042JS10_lec29_sol.pdf\n",
      "Downloading MIT6_042JS10_lec30_sol.pdf\n",
      "Downloading MIT6_042JS10_lec31_sol.pdf\n",
      "Downloading MIT6_042JS10_lec32_sol.pdf\n",
      "Downloading MIT6_042JS10_lec33_sol.pdf\n",
      "Downloading MIT6_042JS10_lec34_sol.pdf\n",
      "Downloading MIT6_042JS10_lec35_sol.pdf\n",
      "Downloading MIT6_042JS10_lec36_sol.pdf\n",
      "Downloading MIT6_042JS10_lec37_sol.pdf\n",
      "Downloading MIT6_042JS10_lec38_sol.pdf\n",
      "Downloading MIT6_042JS10_lec39_sol.pdf\n",
      "Downloading MIT6_042JS10_lec40_sol.pdf\n",
      "Cound not find MIT6_042JS10_lec40_sol.pdf\n",
      "Downloading MIT6_042JS10_lec41_sol.pdf\n",
      "Cound not find MIT6_042JS10_lec41_sol.pdf\n",
      "Downloading MIT6_042JS10_lec42_sol.pdf\n",
      "Cound not find MIT6_042JS10_lec42_sol.pdf\n"
     ]
    }
   ],
   "source": [
    "for lec_num in range(1, 43):\n",
    "    pdf_url = url_template.format(str(lec_num).zfill(2))\n",
    "    url_name = pdf_url.split('/')[-1]\n",
    "    print('Downloading {}'.format(url_name))\n",
    "    try:\n",
    "        downlad_file(pdf_url, url_name)\n",
    "    except urllib.request.HTTPError:\n",
    "        print('Cound not find {}'.format(url_name))"
   ]
  },
  {
   "cell_type": "code",
   "execution_count": null,
   "metadata": {
    "collapsed": true
   },
   "outputs": [],
   "source": []
  },
  {
   "cell_type": "code",
   "execution_count": 11,
   "metadata": {
    "collapsed": true
   },
   "outputs": [],
   "source": [
    "import glob\n",
    "\n",
    "from PyPDF2 import PdfFileWriter, PdfFileReader\n",
    "\n",
    "filenames = sorted(glob.glob('*.pdf'))\n",
    "filenames[:5]"
   ]
  },
  {
   "cell_type": "code",
   "execution_count": 47,
   "metadata": {},
   "outputs": [
    {
     "data": {
      "text/plain": [
       "['MIT6_042JS10_ALL_SOLUTIONS.pdf',\n",
       " 'MIT6_042JS10_lec01_sol.pdf',\n",
       " 'MIT6_042JS10_lec02_sol.pdf',\n",
       " 'MIT6_042JS10_lec03_sol.pdf',\n",
       " 'MIT6_042JS10_lec04_sol.pdf']"
      ]
     },
     "execution_count": 47,
     "metadata": {},
     "output_type": "execute_result"
    }
   ],
   "source": [
    "filenames = sorted(glob.glob('*.pdf'))\n",
    "filenames[:5]"
   ]
  },
  {
   "cell_type": "code",
   "execution_count": 48,
   "metadata": {},
   "outputs": [
    {
     "name": "stderr",
     "output_type": "stream",
     "text": [
      "PdfReadWarning: Xref table not zero-indexed. ID numbers for objects will be corrected. [pdf.py:1736]\n"
     ]
    }
   ],
   "source": [
    "# outObj is our output object\n",
    "outObj = PdfFileWriter()\n",
    "\n",
    "# create a blankPage obj to be used in odd-numbered docs\n",
    "#blankPdf = PdfFileReader(open('blankpage.pdf',\"rb\"))\n",
    "#blankPage = blankPdf.getPage(0)\n",
    "\n",
    "\n",
    "# iterate over original files\n",
    "filenames = sorted(glob.glob('*sol.pdf'))\n",
    "\n",
    "\n",
    "for filename in filenames:  \n",
    "    # open a file as inputpdf\n",
    "    #inputIO = open(filename,\"rb\")\n",
    "    inputPdf = PdfFileReader(open(filename,\"rb\"))\n",
    "    \n",
    "    # get last page before appending new file\n",
    "    bookmarkPage = outObj.getNumPages()\n",
    "    \n",
    "    # append new file to the end\n",
    "    outObj.appendPagesFromReader(inputPdf)\n",
    "    \n",
    "    #inputIO.close()\n",
    "    # add bookmark pointing to 1st page of new file\n",
    "    bookmarkName = '_'.join([filename.split('_')[-2]] + filename.split('_')[:2])\n",
    "    outObj.addBookmark(title=bookmarkName, pagenum=bookmarkPage)\n",
    "        \n",
    "with open (\"MIT6_042JS10_ALL_SOLUTIONS.pdf\", \"wb\") as outFile:\n",
    "    outObj.write(outFile)"
   ]
  },
  {
   "cell_type": "code",
   "execution_count": 3,
   "metadata": {
    "collapsed": true
   },
   "outputs": [],
   "source": []
  },
  {
   "cell_type": "code",
   "execution_count": 4,
   "metadata": {},
   "outputs": [
    {
     "data": {
      "text/plain": [
       "'https://ocw.mit.edu/courses/electrical-engineering-and-computer-science/6-042j-mathematics-for-computer-science-fall-2005/lecture-notes/cp2wsol.pdf'"
      ]
     },
     "execution_count": 4,
     "metadata": {},
     "output_type": "execute_result"
    }
   ],
   "source": [
    "pdf_url = url_template.format(str(2))\n",
    "pdf_url"
   ]
  },
  {
   "cell_type": "code",
   "execution_count": 8,
   "metadata": {},
   "outputs": [
    {
     "data": {
      "text/plain": [
       "'MIT6-042J-fall2005-cp03wsol.pdf'"
      ]
     },
     "execution_count": 8,
     "metadata": {},
     "output_type": "execute_result"
    }
   ],
   "source": [
    "url_name = 'MIT6-042J-fall2005-cp{}wsol.pdf'.format(str(3).zfill(2))\n",
    "url_name"
   ]
  },
  {
   "cell_type": "code",
   "execution_count": null,
   "metadata": {
    "collapsed": true
   },
   "outputs": [],
   "source": [
    "\n",
    "\n",
    "url_template = 'https://ocw.mit.edu/courses/electrical-engineering-and-computer-science/6-042j-mathematics-for-computer-science-fall-2005/lecture-notes/cp{}wsol.pdf'"
   ]
  },
  {
   "cell_type": "code",
   "execution_count": 40,
   "metadata": {},
   "outputs": [
    {
     "name": "stdout",
     "output_type": "stream",
     "text": [
      "Week 1: https://ocw.mit.edu/courses/electrical-engineering-and-computer-science/6-042j-mathematics-for-computer-science-fall-2005/lecture-notes/cp1wsol.pdf\n",
      "Week 2: https://ocw.mit.edu/courses/electrical-engineering-and-computer-science/6-042j-mathematics-for-computer-science-fall-2005/lecture-notes/cp2wsol.pdf\n",
      "Week 3: https://ocw.mit.edu/courses/electrical-engineering-and-computer-science/6-042j-mathematics-for-computer-science-fall-2005/lecture-notes/cp3wsol.pdf\n",
      "Week 4: https://ocw.mit.edu/courses/electrical-engineering-and-computer-science/6-042j-mathematics-for-computer-science-fall-2005/lecture-notes/cp4wsol.pdf\n",
      "Week 5: https://ocw.mit.edu/courses/electrical-engineering-and-computer-science/6-042j-mathematics-for-computer-science-fall-2005/lecture-notes/cp5wsol.pdf\n",
      "Week 6: https://ocw.mit.edu/courses/electrical-engineering-and-computer-science/6-042j-mathematics-for-computer-science-fall-2005/lecture-notes/cp6wsol.pdf\n",
      "Week 7: https://ocw.mit.edu/courses/electrical-engineering-and-computer-science/6-042j-mathematics-for-computer-science-fall-2005/lecture-notes/cp7wsol.pdf\n",
      "Week 8: https://ocw.mit.edu/courses/electrical-engineering-and-computer-science/6-042j-mathematics-for-computer-science-fall-2005/lecture-notes/cp8wsol.pdf\n",
      "Week 9: https://ocw.mit.edu/courses/electrical-engineering-and-computer-science/6-042j-mathematics-for-computer-science-fall-2005/lecture-notes/cp9wsol.pdf\n",
      "Week 10: https://ocw.mit.edu/courses/electrical-engineering-and-computer-science/6-042j-mathematics-for-computer-science-fall-2005/lecture-notes/cp10wsol.pdf\n",
      "Week 11: https://ocw.mit.edu/courses/electrical-engineering-and-computer-science/6-042j-mathematics-for-computer-science-fall-2005/lecture-notes/cp11wsol.pdf\n",
      "Week 12: https://ocw.mit.edu/courses/electrical-engineering-and-computer-science/6-042j-mathematics-for-computer-science-fall-2005/lecture-notes/cp12wsol.pdf\n",
      "Week 13: https://ocw.mit.edu/courses/electrical-engineering-and-computer-science/6-042j-mathematics-for-computer-science-fall-2005/lecture-notes/cp13wsol.pdf\n",
      "Week 14: https://ocw.mit.edu/courses/electrical-engineering-and-computer-science/6-042j-mathematics-for-computer-science-fall-2005/lecture-notes/cp14wsol.pdf\n",
      "Week 15: https://ocw.mit.edu/courses/electrical-engineering-and-computer-science/6-042j-mathematics-for-computer-science-fall-2005/lecture-notes/cp15wsol.pdf\n",
      "Week 16: https://ocw.mit.edu/courses/electrical-engineering-and-computer-science/6-042j-mathematics-for-computer-science-fall-2005/lecture-notes/cp16wsol.pdf\n",
      "Week 17: https://ocw.mit.edu/courses/electrical-engineering-and-computer-science/6-042j-mathematics-for-computer-science-fall-2005/lecture-notes/cp17wsol.pdf\n",
      "Week 18: https://ocw.mit.edu/courses/electrical-engineering-and-computer-science/6-042j-mathematics-for-computer-science-fall-2005/lecture-notes/cp18wsol.pdf\n",
      "Week 19: https://ocw.mit.edu/courses/electrical-engineering-and-computer-science/6-042j-mathematics-for-computer-science-fall-2005/lecture-notes/cp19wsol.pdf\n",
      "Week 20: https://ocw.mit.edu/courses/electrical-engineering-and-computer-science/6-042j-mathematics-for-computer-science-fall-2005/lecture-notes/cp20wsol.pdf\n",
      "Week 21: https://ocw.mit.edu/courses/electrical-engineering-and-computer-science/6-042j-mathematics-for-computer-science-fall-2005/lecture-notes/cp21wsol.pdf\n",
      "Week 22: https://ocw.mit.edu/courses/electrical-engineering-and-computer-science/6-042j-mathematics-for-computer-science-fall-2005/lecture-notes/cp22wsol.pdf\n",
      "Week 23: https://ocw.mit.edu/courses/electrical-engineering-and-computer-science/6-042j-mathematics-for-computer-science-fall-2005/lecture-notes/cp23wsol.pdf\n",
      "Week 24: https://ocw.mit.edu/courses/electrical-engineering-and-computer-science/6-042j-mathematics-for-computer-science-fall-2005/lecture-notes/cp24wsol.pdf\n",
      "Week 25: https://ocw.mit.edu/courses/electrical-engineering-and-computer-science/6-042j-mathematics-for-computer-science-fall-2005/lecture-notes/cp25wsol.pdf\n",
      "Week 26: https://ocw.mit.edu/courses/electrical-engineering-and-computer-science/6-042j-mathematics-for-computer-science-fall-2005/lecture-notes/cp26wsol.pdf\n",
      "Week 27: https://ocw.mit.edu/courses/electrical-engineering-and-computer-science/6-042j-mathematics-for-computer-science-fall-2005/lecture-notes/cp27wsol.pdf\n",
      "Week 28: https://ocw.mit.edu/courses/electrical-engineering-and-computer-science/6-042j-mathematics-for-computer-science-fall-2005/lecture-notes/cp28wsol.pdf\n",
      "Week 29: https://ocw.mit.edu/courses/electrical-engineering-and-computer-science/6-042j-mathematics-for-computer-science-fall-2005/lecture-notes/cp29wsol.pdf\n",
      "Week 30: https://ocw.mit.edu/courses/electrical-engineering-and-computer-science/6-042j-mathematics-for-computer-science-fall-2005/lecture-notes/cp30wsol.pdf\n",
      "Week 31: https://ocw.mit.edu/courses/electrical-engineering-and-computer-science/6-042j-mathematics-for-computer-science-fall-2005/lecture-notes/cp31wsol.pdf\n",
      "Week 32: https://ocw.mit.edu/courses/electrical-engineering-and-computer-science/6-042j-mathematics-for-computer-science-fall-2005/lecture-notes/cp32wsol.pdf\n",
      "Week 33: https://ocw.mit.edu/courses/electrical-engineering-and-computer-science/6-042j-mathematics-for-computer-science-fall-2005/lecture-notes/cp33wsol.pdf\n",
      "Week 34: https://ocw.mit.edu/courses/electrical-engineering-and-computer-science/6-042j-mathematics-for-computer-science-fall-2005/lecture-notes/cp34wsol.pdf\n",
      "Week 35: https://ocw.mit.edu/courses/electrical-engineering-and-computer-science/6-042j-mathematics-for-computer-science-fall-2005/lecture-notes/cp35wsol.pdf\n",
      "Week 36: https://ocw.mit.edu/courses/electrical-engineering-and-computer-science/6-042j-mathematics-for-computer-science-fall-2005/lecture-notes/cp36wsol.pdf\n",
      "Week 37: https://ocw.mit.edu/courses/electrical-engineering-and-computer-science/6-042j-mathematics-for-computer-science-fall-2005/lecture-notes/cp37wsol.pdf\n",
      "Week 38: https://ocw.mit.edu/courses/electrical-engineering-and-computer-science/6-042j-mathematics-for-computer-science-fall-2005/lecture-notes/cp38wsol.pdf\n",
      "Week 39: https://ocw.mit.edu/courses/electrical-engineering-and-computer-science/6-042j-mathematics-for-computer-science-fall-2005/lecture-notes/cp39wsol.pdf\n",
      "Week 40: https://ocw.mit.edu/courses/electrical-engineering-and-computer-science/6-042j-mathematics-for-computer-science-fall-2005/lecture-notes/cp40wsol.pdf\n",
      "Week 41: https://ocw.mit.edu/courses/electrical-engineering-and-computer-science/6-042j-mathematics-for-computer-science-fall-2005/lecture-notes/cp41wsol.pdf\n",
      "Week 42: https://ocw.mit.edu/courses/electrical-engineering-and-computer-science/6-042j-mathematics-for-computer-science-fall-2005/lecture-notes/cp42wsol.pdf\n",
      "Week 43: https://ocw.mit.edu/courses/electrical-engineering-and-computer-science/6-042j-mathematics-for-computer-science-fall-2005/lecture-notes/cp43wsol.pdf\n",
      "Week 44: https://ocw.mit.edu/courses/electrical-engineering-and-computer-science/6-042j-mathematics-for-computer-science-fall-2005/lecture-notes/cp44wsol.pdf\n",
      "Week 45: https://ocw.mit.edu/courses/electrical-engineering-and-computer-science/6-042j-mathematics-for-computer-science-fall-2005/lecture-notes/cp45wsol.pdf\n",
      "Week 46: https://ocw.mit.edu/courses/electrical-engineering-and-computer-science/6-042j-mathematics-for-computer-science-fall-2005/lecture-notes/cp46wsol.pdf\n",
      "Week 47: https://ocw.mit.edu/courses/electrical-engineering-and-computer-science/6-042j-mathematics-for-computer-science-fall-2005/lecture-notes/cp47wsol.pdf\n",
      "Week 48: https://ocw.mit.edu/courses/electrical-engineering-and-computer-science/6-042j-mathematics-for-computer-science-fall-2005/lecture-notes/cp48wsol.pdf\n",
      "Week 49: https://ocw.mit.edu/courses/electrical-engineering-and-computer-science/6-042j-mathematics-for-computer-science-fall-2005/lecture-notes/cp49wsol.pdf\n",
      "Week 50: https://ocw.mit.edu/courses/electrical-engineering-and-computer-science/6-042j-mathematics-for-computer-science-fall-2005/lecture-notes/cp50wsol.pdf\n",
      "Week 51: https://ocw.mit.edu/courses/electrical-engineering-and-computer-science/6-042j-mathematics-for-computer-science-fall-2005/lecture-notes/cp51wsol.pdf\n",
      "Week 52: https://ocw.mit.edu/courses/electrical-engineering-and-computer-science/6-042j-mathematics-for-computer-science-fall-2005/lecture-notes/cp52wsol.pdf\n",
      "Week 53: https://ocw.mit.edu/courses/electrical-engineering-and-computer-science/6-042j-mathematics-for-computer-science-fall-2005/lecture-notes/cp53wsol.pdf\n",
      "Week 54: https://ocw.mit.edu/courses/electrical-engineering-and-computer-science/6-042j-mathematics-for-computer-science-fall-2005/lecture-notes/cp54wsol.pdf\n",
      "Week 55: https://ocw.mit.edu/courses/electrical-engineering-and-computer-science/6-042j-mathematics-for-computer-science-fall-2005/lecture-notes/cp55wsol.pdf\n",
      "Week 56: https://ocw.mit.edu/courses/electrical-engineering-and-computer-science/6-042j-mathematics-for-computer-science-fall-2005/lecture-notes/cp56wsol.pdf\n",
      "Week 57: https://ocw.mit.edu/courses/electrical-engineering-and-computer-science/6-042j-mathematics-for-computer-science-fall-2005/lecture-notes/cp57wsol.pdf\n",
      "Week 58: https://ocw.mit.edu/courses/electrical-engineering-and-computer-science/6-042j-mathematics-for-computer-science-fall-2005/lecture-notes/cp58wsol.pdf\n",
      "Week 59: https://ocw.mit.edu/courses/electrical-engineering-and-computer-science/6-042j-mathematics-for-computer-science-fall-2005/lecture-notes/cp59wsol.pdf\n",
      "Week 60: https://ocw.mit.edu/courses/electrical-engineering-and-computer-science/6-042j-mathematics-for-computer-science-fall-2005/lecture-notes/cp60wsol.pdf\n",
      "Week 61: https://ocw.mit.edu/courses/electrical-engineering-and-computer-science/6-042j-mathematics-for-computer-science-fall-2005/lecture-notes/cp61wsol.pdf\n",
      "Week 62: https://ocw.mit.edu/courses/electrical-engineering-and-computer-science/6-042j-mathematics-for-computer-science-fall-2005/lecture-notes/cp62wsol.pdf\n",
      "Week 63: https://ocw.mit.edu/courses/electrical-engineering-and-computer-science/6-042j-mathematics-for-computer-science-fall-2005/lecture-notes/cp63wsol.pdf\n",
      "Week 64: https://ocw.mit.edu/courses/electrical-engineering-and-computer-science/6-042j-mathematics-for-computer-science-fall-2005/lecture-notes/cp64wsol.pdf\n",
      "Week 65: https://ocw.mit.edu/courses/electrical-engineering-and-computer-science/6-042j-mathematics-for-computer-science-fall-2005/lecture-notes/cp65wsol.pdf\n",
      "Week 66: https://ocw.mit.edu/courses/electrical-engineering-and-computer-science/6-042j-mathematics-for-computer-science-fall-2005/lecture-notes/cp66wsol.pdf\n",
      "Week 67: https://ocw.mit.edu/courses/electrical-engineering-and-computer-science/6-042j-mathematics-for-computer-science-fall-2005/lecture-notes/cp67wsol.pdf\n",
      "Week 68: https://ocw.mit.edu/courses/electrical-engineering-and-computer-science/6-042j-mathematics-for-computer-science-fall-2005/lecture-notes/cp68wsol.pdf\n",
      "Week 69: https://ocw.mit.edu/courses/electrical-engineering-and-computer-science/6-042j-mathematics-for-computer-science-fall-2005/lecture-notes/cp69wsol.pdf\n",
      "Week 70: https://ocw.mit.edu/courses/electrical-engineering-and-computer-science/6-042j-mathematics-for-computer-science-fall-2005/lecture-notes/cp70wsol.pdf\n",
      "Week 71: https://ocw.mit.edu/courses/electrical-engineering-and-computer-science/6-042j-mathematics-for-computer-science-fall-2005/lecture-notes/cp71wsol.pdf\n",
      "Week 72: https://ocw.mit.edu/courses/electrical-engineering-and-computer-science/6-042j-mathematics-for-computer-science-fall-2005/lecture-notes/cp72wsol.pdf\n",
      "Week 73: https://ocw.mit.edu/courses/electrical-engineering-and-computer-science/6-042j-mathematics-for-computer-science-fall-2005/lecture-notes/cp73wsol.pdf\n",
      "Week 74: https://ocw.mit.edu/courses/electrical-engineering-and-computer-science/6-042j-mathematics-for-computer-science-fall-2005/lecture-notes/cp74wsol.pdf\n",
      "Week 75: https://ocw.mit.edu/courses/electrical-engineering-and-computer-science/6-042j-mathematics-for-computer-science-fall-2005/lecture-notes/cp75wsol.pdf\n",
      "Week 76: https://ocw.mit.edu/courses/electrical-engineering-and-computer-science/6-042j-mathematics-for-computer-science-fall-2005/lecture-notes/cp76wsol.pdf\n",
      "Week 77: https://ocw.mit.edu/courses/electrical-engineering-and-computer-science/6-042j-mathematics-for-computer-science-fall-2005/lecture-notes/cp77wsol.pdf\n",
      "Week 78: https://ocw.mit.edu/courses/electrical-engineering-and-computer-science/6-042j-mathematics-for-computer-science-fall-2005/lecture-notes/cp78wsol.pdf\n",
      "Week 79: https://ocw.mit.edu/courses/electrical-engineering-and-computer-science/6-042j-mathematics-for-computer-science-fall-2005/lecture-notes/cp79wsol.pdf\n",
      "Week 80: https://ocw.mit.edu/courses/electrical-engineering-and-computer-science/6-042j-mathematics-for-computer-science-fall-2005/lecture-notes/cp80wsol.pdf\n",
      "Week 81: https://ocw.mit.edu/courses/electrical-engineering-and-computer-science/6-042j-mathematics-for-computer-science-fall-2005/lecture-notes/cp81wsol.pdf\n",
      "Week 82: https://ocw.mit.edu/courses/electrical-engineering-and-computer-science/6-042j-mathematics-for-computer-science-fall-2005/lecture-notes/cp82wsol.pdf\n",
      "Week 83: https://ocw.mit.edu/courses/electrical-engineering-and-computer-science/6-042j-mathematics-for-computer-science-fall-2005/lecture-notes/cp83wsol.pdf\n",
      "Week 84: https://ocw.mit.edu/courses/electrical-engineering-and-computer-science/6-042j-mathematics-for-computer-science-fall-2005/lecture-notes/cp84wsol.pdf\n",
      "Week 85: https://ocw.mit.edu/courses/electrical-engineering-and-computer-science/6-042j-mathematics-for-computer-science-fall-2005/lecture-notes/cp85wsol.pdf\n",
      "Week 86: https://ocw.mit.edu/courses/electrical-engineering-and-computer-science/6-042j-mathematics-for-computer-science-fall-2005/lecture-notes/cp86wsol.pdf\n",
      "Week 87: https://ocw.mit.edu/courses/electrical-engineering-and-computer-science/6-042j-mathematics-for-computer-science-fall-2005/lecture-notes/cp87wsol.pdf\n",
      "Week 88: https://ocw.mit.edu/courses/electrical-engineering-and-computer-science/6-042j-mathematics-for-computer-science-fall-2005/lecture-notes/cp88wsol.pdf\n",
      "Week 89: https://ocw.mit.edu/courses/electrical-engineering-and-computer-science/6-042j-mathematics-for-computer-science-fall-2005/lecture-notes/cp89wsol.pdf\n",
      "Week 90: https://ocw.mit.edu/courses/electrical-engineering-and-computer-science/6-042j-mathematics-for-computer-science-fall-2005/lecture-notes/cp90wsol.pdf\n",
      "Week 91: https://ocw.mit.edu/courses/electrical-engineering-and-computer-science/6-042j-mathematics-for-computer-science-fall-2005/lecture-notes/cp91wsol.pdf\n",
      "Week 92: https://ocw.mit.edu/courses/electrical-engineering-and-computer-science/6-042j-mathematics-for-computer-science-fall-2005/lecture-notes/cp92wsol.pdf\n",
      "Week 93: https://ocw.mit.edu/courses/electrical-engineering-and-computer-science/6-042j-mathematics-for-computer-science-fall-2005/lecture-notes/cp93wsol.pdf\n",
      "Week 94: https://ocw.mit.edu/courses/electrical-engineering-and-computer-science/6-042j-mathematics-for-computer-science-fall-2005/lecture-notes/cp94wsol.pdf\n",
      "Week 95: https://ocw.mit.edu/courses/electrical-engineering-and-computer-science/6-042j-mathematics-for-computer-science-fall-2005/lecture-notes/cp95wsol.pdf\n",
      "Week 96: https://ocw.mit.edu/courses/electrical-engineering-and-computer-science/6-042j-mathematics-for-computer-science-fall-2005/lecture-notes/cp96wsol.pdf\n",
      "Week 97: https://ocw.mit.edu/courses/electrical-engineering-and-computer-science/6-042j-mathematics-for-computer-science-fall-2005/lecture-notes/cp97wsol.pdf\n",
      "Week 98: https://ocw.mit.edu/courses/electrical-engineering-and-computer-science/6-042j-mathematics-for-computer-science-fall-2005/lecture-notes/cp98wsol.pdf\n",
      "Week 99: https://ocw.mit.edu/courses/electrical-engineering-and-computer-science/6-042j-mathematics-for-computer-science-fall-2005/lecture-notes/cp99wsol.pdf\n"
     ]
    }
   ],
   "source": [
    "for lec_num in range(1, 100):\n",
    "    pdf_url = url_template.format(str(lec_num))\n",
    "    url_name = 'MIT6-042J-fall2005-cp{}wsol.pdf'.format(str(lec_num).zfill(2))\n",
    "    print('Week {}: {}'.format(lec_num, pdf_url))"
   ]
  },
  {
   "cell_type": "code",
   "execution_count": 9,
   "metadata": {},
   "outputs": [
    {
     "name": "stdout",
     "output_type": "stream",
     "text": [
      "Downloading MIT6-042J-fall2005-cp01wsol.pdf\n",
      "Downloading MIT6-042J-fall2005-cp02wsol.pdf\n",
      "Downloading MIT6-042J-fall2005-cp03wsol.pdf\n",
      "Downloading MIT6-042J-fall2005-cp04wsol.pdf\n",
      "Downloading MIT6-042J-fall2005-cp05wsol.pdf\n",
      "Downloading MIT6-042J-fall2005-cp06wsol.pdf\n",
      "Downloading MIT6-042J-fall2005-cp07wsol.pdf\n",
      "Downloading MIT6-042J-fall2005-cp08wsol.pdf\n",
      "Downloading MIT6-042J-fall2005-cp09wsol.pdf\n",
      "Downloading MIT6-042J-fall2005-cp10wsol.pdf\n",
      "Downloading MIT6-042J-fall2005-cp11wsol.pdf\n",
      "Downloading MIT6-042J-fall2005-cp12wsol.pdf\n",
      "Downloading MIT6-042J-fall2005-cp13wsol.pdf\n",
      "Downloading MIT6-042J-fall2005-cp14wsol.pdf\n",
      "Downloading MIT6-042J-fall2005-cp15wsol.pdf\n",
      "Downloading MIT6-042J-fall2005-cp16wsol.pdf\n",
      "Cound not find MIT6-042J-fall2005-cp16wsol.pdf\n",
      "Downloading MIT6-042J-fall2005-cp17wsol.pdf\n",
      "Cound not find MIT6-042J-fall2005-cp17wsol.pdf\n",
      "Downloading MIT6-042J-fall2005-cp18wsol.pdf\n",
      "Cound not find MIT6-042J-fall2005-cp18wsol.pdf\n",
      "Downloading MIT6-042J-fall2005-cp19wsol.pdf\n",
      "Cound not find MIT6-042J-fall2005-cp19wsol.pdf\n",
      "Downloading MIT6-042J-fall2005-cp20wsol.pdf\n",
      "Cound not find MIT6-042J-fall2005-cp20wsol.pdf\n",
      "Downloading MIT6-042J-fall2005-cp21wsol.pdf\n",
      "Cound not find MIT6-042J-fall2005-cp21wsol.pdf\n",
      "Downloading MIT6-042J-fall2005-cp22wsol.pdf\n",
      "Cound not find MIT6-042J-fall2005-cp22wsol.pdf\n",
      "Downloading MIT6-042J-fall2005-cp23wsol.pdf\n",
      "Cound not find MIT6-042J-fall2005-cp23wsol.pdf\n",
      "Downloading MIT6-042J-fall2005-cp24wsol.pdf\n",
      "Cound not find MIT6-042J-fall2005-cp24wsol.pdf\n",
      "Downloading MIT6-042J-fall2005-cp25wsol.pdf\n",
      "Cound not find MIT6-042J-fall2005-cp25wsol.pdf\n",
      "Downloading MIT6-042J-fall2005-cp26wsol.pdf\n",
      "Cound not find MIT6-042J-fall2005-cp26wsol.pdf\n",
      "Downloading MIT6-042J-fall2005-cp27wsol.pdf\n",
      "Cound not find MIT6-042J-fall2005-cp27wsol.pdf\n",
      "Downloading MIT6-042J-fall2005-cp28wsol.pdf\n",
      "Cound not find MIT6-042J-fall2005-cp28wsol.pdf\n",
      "Downloading MIT6-042J-fall2005-cp29wsol.pdf\n",
      "Cound not find MIT6-042J-fall2005-cp29wsol.pdf\n",
      "Downloading MIT6-042J-fall2005-cp30wsol.pdf\n",
      "Cound not find MIT6-042J-fall2005-cp30wsol.pdf\n",
      "Downloading MIT6-042J-fall2005-cp31wsol.pdf\n",
      "Cound not find MIT6-042J-fall2005-cp31wsol.pdf\n",
      "Downloading MIT6-042J-fall2005-cp32wsol.pdf\n",
      "Cound not find MIT6-042J-fall2005-cp32wsol.pdf\n",
      "Downloading MIT6-042J-fall2005-cp33wsol.pdf\n",
      "Cound not find MIT6-042J-fall2005-cp33wsol.pdf\n",
      "Downloading MIT6-042J-fall2005-cp34wsol.pdf\n",
      "Cound not find MIT6-042J-fall2005-cp34wsol.pdf\n",
      "Downloading MIT6-042J-fall2005-cp35wsol.pdf\n",
      "Cound not find MIT6-042J-fall2005-cp35wsol.pdf\n",
      "Downloading MIT6-042J-fall2005-cp36wsol.pdf\n",
      "Cound not find MIT6-042J-fall2005-cp36wsol.pdf\n",
      "Downloading MIT6-042J-fall2005-cp37wsol.pdf\n",
      "Cound not find MIT6-042J-fall2005-cp37wsol.pdf\n",
      "Downloading MIT6-042J-fall2005-cp38wsol.pdf\n",
      "Cound not find MIT6-042J-fall2005-cp38wsol.pdf\n",
      "Downloading MIT6-042J-fall2005-cp39wsol.pdf\n",
      "Cound not find MIT6-042J-fall2005-cp39wsol.pdf\n",
      "Downloading MIT6-042J-fall2005-cp40wsol.pdf\n",
      "Cound not find MIT6-042J-fall2005-cp40wsol.pdf\n",
      "Downloading MIT6-042J-fall2005-cp41wsol.pdf\n",
      "Cound not find MIT6-042J-fall2005-cp41wsol.pdf\n",
      "Downloading MIT6-042J-fall2005-cp42wsol.pdf\n",
      "Cound not find MIT6-042J-fall2005-cp42wsol.pdf\n",
      "Downloading MIT6-042J-fall2005-cp43wsol.pdf\n",
      "Cound not find MIT6-042J-fall2005-cp43wsol.pdf\n",
      "Downloading MIT6-042J-fall2005-cp44wsol.pdf\n",
      "Cound not find MIT6-042J-fall2005-cp44wsol.pdf\n",
      "Downloading MIT6-042J-fall2005-cp45wsol.pdf\n",
      "Cound not find MIT6-042J-fall2005-cp45wsol.pdf\n",
      "Downloading MIT6-042J-fall2005-cp46wsol.pdf\n",
      "Cound not find MIT6-042J-fall2005-cp46wsol.pdf\n",
      "Downloading MIT6-042J-fall2005-cp47wsol.pdf\n",
      "Cound not find MIT6-042J-fall2005-cp47wsol.pdf\n",
      "Downloading MIT6-042J-fall2005-cp48wsol.pdf\n",
      "Cound not find MIT6-042J-fall2005-cp48wsol.pdf\n",
      "Downloading MIT6-042J-fall2005-cp49wsol.pdf\n",
      "Cound not find MIT6-042J-fall2005-cp49wsol.pdf\n",
      "Downloading MIT6-042J-fall2005-cp50wsol.pdf\n",
      "Cound not find MIT6-042J-fall2005-cp50wsol.pdf\n",
      "Downloading MIT6-042J-fall2005-cp51wsol.pdf\n",
      "Cound not find MIT6-042J-fall2005-cp51wsol.pdf\n",
      "Downloading MIT6-042J-fall2005-cp52wsol.pdf\n",
      "Cound not find MIT6-042J-fall2005-cp52wsol.pdf\n",
      "Downloading MIT6-042J-fall2005-cp53wsol.pdf\n",
      "Cound not find MIT6-042J-fall2005-cp53wsol.pdf\n",
      "Downloading MIT6-042J-fall2005-cp54wsol.pdf\n",
      "Cound not find MIT6-042J-fall2005-cp54wsol.pdf\n",
      "Downloading MIT6-042J-fall2005-cp55wsol.pdf\n",
      "Cound not find MIT6-042J-fall2005-cp55wsol.pdf\n",
      "Downloading MIT6-042J-fall2005-cp56wsol.pdf\n",
      "Cound not find MIT6-042J-fall2005-cp56wsol.pdf\n",
      "Downloading MIT6-042J-fall2005-cp57wsol.pdf\n",
      "Cound not find MIT6-042J-fall2005-cp57wsol.pdf\n",
      "Downloading MIT6-042J-fall2005-cp58wsol.pdf\n",
      "Cound not find MIT6-042J-fall2005-cp58wsol.pdf\n",
      "Downloading MIT6-042J-fall2005-cp59wsol.pdf\n",
      "Cound not find MIT6-042J-fall2005-cp59wsol.pdf\n",
      "Downloading MIT6-042J-fall2005-cp60wsol.pdf\n",
      "Cound not find MIT6-042J-fall2005-cp60wsol.pdf\n",
      "Downloading MIT6-042J-fall2005-cp61wsol.pdf\n",
      "Cound not find MIT6-042J-fall2005-cp61wsol.pdf\n",
      "Downloading MIT6-042J-fall2005-cp62wsol.pdf\n",
      "Cound not find MIT6-042J-fall2005-cp62wsol.pdf\n",
      "Downloading MIT6-042J-fall2005-cp63wsol.pdf\n",
      "Cound not find MIT6-042J-fall2005-cp63wsol.pdf\n",
      "Downloading MIT6-042J-fall2005-cp64wsol.pdf\n",
      "Cound not find MIT6-042J-fall2005-cp64wsol.pdf\n",
      "Downloading MIT6-042J-fall2005-cp65wsol.pdf\n",
      "Cound not find MIT6-042J-fall2005-cp65wsol.pdf\n",
      "Downloading MIT6-042J-fall2005-cp66wsol.pdf\n",
      "Cound not find MIT6-042J-fall2005-cp66wsol.pdf\n",
      "Downloading MIT6-042J-fall2005-cp67wsol.pdf\n",
      "Cound not find MIT6-042J-fall2005-cp67wsol.pdf\n",
      "Downloading MIT6-042J-fall2005-cp68wsol.pdf\n",
      "Cound not find MIT6-042J-fall2005-cp68wsol.pdf\n",
      "Downloading MIT6-042J-fall2005-cp69wsol.pdf\n",
      "Cound not find MIT6-042J-fall2005-cp69wsol.pdf\n",
      "Downloading MIT6-042J-fall2005-cp70wsol.pdf\n",
      "Cound not find MIT6-042J-fall2005-cp70wsol.pdf\n",
      "Downloading MIT6-042J-fall2005-cp71wsol.pdf\n",
      "Cound not find MIT6-042J-fall2005-cp71wsol.pdf\n",
      "Downloading MIT6-042J-fall2005-cp72wsol.pdf\n",
      "Cound not find MIT6-042J-fall2005-cp72wsol.pdf\n",
      "Downloading MIT6-042J-fall2005-cp73wsol.pdf\n",
      "Cound not find MIT6-042J-fall2005-cp73wsol.pdf\n",
      "Downloading MIT6-042J-fall2005-cp74wsol.pdf\n",
      "Cound not find MIT6-042J-fall2005-cp74wsol.pdf\n",
      "Downloading MIT6-042J-fall2005-cp75wsol.pdf\n",
      "Cound not find MIT6-042J-fall2005-cp75wsol.pdf\n",
      "Downloading MIT6-042J-fall2005-cp76wsol.pdf\n",
      "Cound not find MIT6-042J-fall2005-cp76wsol.pdf\n",
      "Downloading MIT6-042J-fall2005-cp77wsol.pdf\n",
      "Cound not find MIT6-042J-fall2005-cp77wsol.pdf\n",
      "Downloading MIT6-042J-fall2005-cp78wsol.pdf\n",
      "Cound not find MIT6-042J-fall2005-cp78wsol.pdf\n",
      "Downloading MIT6-042J-fall2005-cp79wsol.pdf\n",
      "Cound not find MIT6-042J-fall2005-cp79wsol.pdf\n",
      "Downloading MIT6-042J-fall2005-cp80wsol.pdf\n",
      "Cound not find MIT6-042J-fall2005-cp80wsol.pdf\n",
      "Downloading MIT6-042J-fall2005-cp81wsol.pdf\n",
      "Cound not find MIT6-042J-fall2005-cp81wsol.pdf\n",
      "Downloading MIT6-042J-fall2005-cp82wsol.pdf\n",
      "Cound not find MIT6-042J-fall2005-cp82wsol.pdf\n",
      "Downloading MIT6-042J-fall2005-cp83wsol.pdf\n",
      "Cound not find MIT6-042J-fall2005-cp83wsol.pdf\n",
      "Downloading MIT6-042J-fall2005-cp84wsol.pdf\n",
      "Cound not find MIT6-042J-fall2005-cp84wsol.pdf\n",
      "Downloading MIT6-042J-fall2005-cp85wsol.pdf\n",
      "Cound not find MIT6-042J-fall2005-cp85wsol.pdf\n",
      "Downloading MIT6-042J-fall2005-cp86wsol.pdf\n",
      "Cound not find MIT6-042J-fall2005-cp86wsol.pdf\n",
      "Downloading MIT6-042J-fall2005-cp87wsol.pdf\n",
      "Cound not find MIT6-042J-fall2005-cp87wsol.pdf\n",
      "Downloading MIT6-042J-fall2005-cp88wsol.pdf\n",
      "Cound not find MIT6-042J-fall2005-cp88wsol.pdf\n",
      "Downloading MIT6-042J-fall2005-cp89wsol.pdf\n",
      "Cound not find MIT6-042J-fall2005-cp89wsol.pdf\n",
      "Downloading MIT6-042J-fall2005-cp90wsol.pdf\n",
      "Cound not find MIT6-042J-fall2005-cp90wsol.pdf\n",
      "Downloading MIT6-042J-fall2005-cp91wsol.pdf\n",
      "Cound not find MIT6-042J-fall2005-cp91wsol.pdf\n",
      "Downloading MIT6-042J-fall2005-cp92wsol.pdf\n",
      "Cound not find MIT6-042J-fall2005-cp92wsol.pdf\n",
      "Downloading MIT6-042J-fall2005-cp93wsol.pdf\n",
      "Cound not find MIT6-042J-fall2005-cp93wsol.pdf\n",
      "Downloading MIT6-042J-fall2005-cp94wsol.pdf\n",
      "Cound not find MIT6-042J-fall2005-cp94wsol.pdf\n",
      "Downloading MIT6-042J-fall2005-cp95wsol.pdf\n",
      "Cound not find MIT6-042J-fall2005-cp95wsol.pdf\n",
      "Downloading MIT6-042J-fall2005-cp96wsol.pdf\n",
      "Cound not find MIT6-042J-fall2005-cp96wsol.pdf\n",
      "Downloading MIT6-042J-fall2005-cp97wsol.pdf\n",
      "Cound not find MIT6-042J-fall2005-cp97wsol.pdf\n",
      "Downloading MIT6-042J-fall2005-cp98wsol.pdf\n",
      "Cound not find MIT6-042J-fall2005-cp98wsol.pdf\n",
      "Downloading MIT6-042J-fall2005-cp99wsol.pdf\n"
     ]
    },
    {
     "name": "stdout",
     "output_type": "stream",
     "text": [
      "Cound not find MIT6-042J-fall2005-cp99wsol.pdf\n"
     ]
    }
   ],
   "source": [
    "import urllib.request\n",
    "import shutil\n",
    "\n",
    "def downlad_file(url, file_name):\n",
    "    with urllib.request.urlopen(url) as response, open(file_name, 'wb') as out_file:\n",
    "        shutil.copyfileobj(response, out_file)\n",
    "\n",
    "for lec_num in range(1, 100):\n",
    "    pdf_url = url_template.format(str(lec_num))\n",
    "    url_name = 'MIT6-042J-fall2005-cp{}wsol.pdf'.format(str(lec_num).zfill(2))\n",
    "    print('Downloading {}'.format(url_name))\n",
    "    try:\n",
    "        downlad_file(pdf_url, url_name)\n",
    "    except urllib.request.HTTPError:\n",
    "        print('Cound not find {}'.format(url_name))"
   ]
  },
  {
   "cell_type": "code",
   "execution_count": 15,
   "metadata": {},
   "outputs": [
    {
     "name": "stdout",
     "output_type": "stream",
     "text": [
      "['MIT6-042J-fall2005-cp01wsol.pdf', 'MIT6-042J-fall2005-cp02wsol.pdf', 'MIT6-042J-fall2005-cp03wsol.pdf']\n",
      "['MIT6-042J-fall2005-cp13wsol.pdf', 'MIT6-042J-fall2005-cp14wsol.pdf', 'MIT6-042J-fall2005-cp15wsol.pdf']\n"
     ]
    }
   ],
   "source": [
    "import glob\n",
    "\n",
    "from PyPDF2 import PdfFileWriter, PdfFileReader\n",
    "\n",
    "filenames = sorted(glob.glob('*fall2005*.pdf'))\n",
    "print(filenames[:3])\n",
    "print(filenames[-3:])"
   ]
  },
  {
   "cell_type": "code",
   "execution_count": 17,
   "metadata": {
    "collapsed": true
   },
   "outputs": [],
   "source": [
    "filename = filenames[0]"
   ]
  },
  {
   "cell_type": "code",
   "execution_count": 22,
   "metadata": {},
   "outputs": [
    {
     "data": {
      "text/plain": [
       "'cp01wsol'"
      ]
     },
     "execution_count": 22,
     "metadata": {},
     "output_type": "execute_result"
    }
   ],
   "source": [
    "bookmarkName = filename.split('-')[-1].split('.')[0]\n",
    "bookmarkName"
   ]
  },
  {
   "cell_type": "code",
   "execution_count": 30,
   "metadata": {
    "scrolled": true
   },
   "outputs": [
    {
     "data": {
      "text/plain": [
       "['MIT6_042JS10_lec01_sol.pdf',\n",
       " 'MIT6_042JS10_lec02_sol.pdf',\n",
       " 'MIT6_042JS10_lec03_sol.pdf',\n",
       " 'MIT6_042JS10_lec04_sol.pdf',\n",
       " 'MIT6_042JS10_lec05_sol.pdf',\n",
       " 'MIT6_042JS10_lec06_sol.pdf',\n",
       " 'MIT6_042JS10_lec07_sol.pdf',\n",
       " 'MIT6_042JS10_lec08_sol.pdf',\n",
       " 'MIT6_042JS10_lec09_sol.pdf',\n",
       " 'MIT6_042JS10_lec10_sol.pdf',\n",
       " 'MIT6_042JS10_lec11_sol.pdf',\n",
       " 'MIT6_042JS10_lec12_sol.pdf',\n",
       " 'MIT6_042JS10_lec13_sol.pdf',\n",
       " 'MIT6_042JS10_lec14_sol.pdf',\n",
       " 'MIT6_042JS10_lec15_sol.pdf',\n",
       " 'MIT6_042JS10_lec16_sol.pdf',\n",
       " 'MIT6_042JS10_lec17_sol.pdf',\n",
       " 'MIT6_042JS10_lec18_sol.pdf',\n",
       " 'MIT6_042JS10_lec19_sol.pdf',\n",
       " 'MIT6_042JS10_lec20_sol.pdf',\n",
       " 'MIT6_042JS10_lec21_sol.pdf',\n",
       " 'MIT6_042JS10_lec22_sol.pdf',\n",
       " 'MIT6_042JS10_lec23_sol.pdf',\n",
       " 'MIT6_042JS10_lec24_sol.pdf',\n",
       " 'MIT6_042JS10_lec25_sol.pdf',\n",
       " 'MIT6_042JS10_lec26_sol.pdf',\n",
       " 'MIT6_042JS10_lec27_sol.pdf',\n",
       " 'MIT6_042JS10_lec28_sol.pdf',\n",
       " 'MIT6_042JS10_lec29_sol.pdf',\n",
       " 'MIT6_042JS10_lec30_sol.pdf',\n",
       " 'MIT6_042JS10_lec31_sol.pdf',\n",
       " 'MIT6_042JS10_lec32_sol.pdf',\n",
       " 'MIT6_042JS10_lec33_sol.pdf',\n",
       " 'MIT6_042JS10_lec34_sol.pdf',\n",
       " 'MIT6_042JS10_lec35_sol.pdf',\n",
       " 'MIT6_042JS10_lec36_sol.pdf',\n",
       " 'MIT6_042JS10_lec37_sol.pdf',\n",
       " 'MIT6_042JS10_lec38_sol.pdf',\n",
       " 'MIT6_042JS10_lec39_sol.pdf']"
      ]
     },
     "execution_count": 30,
     "metadata": {},
     "output_type": "execute_result"
    }
   ],
   "source": [
    "sorted(glob.glob('*_sol.pdf'))"
   ]
  },
  {
   "cell_type": "code",
   "execution_count": 38,
   "metadata": {},
   "outputs": [
    {
     "name": "stderr",
     "output_type": "stream",
     "text": [
      "PdfReadWarning: Xref table not zero-indexed. ID numbers for objects will be corrected. [pdf.py:1736]\n"
     ]
    }
   ],
   "source": [
    "# outObj is our output object\n",
    "outObj = PdfFileWriter()\n",
    "\n",
    "# create a blankPage obj to be used in odd-numbered docs\n",
    "#blankPdf = PdfFileReader(open('blankpage.pdf',\"rb\"))\n",
    "#blankPage = blankPdf.getPage(0)\n",
    "\n",
    "\n",
    "# iterate over original files\n",
    "filenames = sorted(glob.glob('*fall2005*.pdf'))\n",
    "\n",
    "\n",
    "for filename in sorted(glob.glob('*fall2005*.pdf')):  \n",
    "    # open a file as inputpdf\n",
    "    #inputIO = open(filename,\"rb\")\n",
    "    inputPdf = PdfFileReader(open(filename,\"rb\"))\n",
    "    \n",
    "    # get last page before appending new file\n",
    "    bookmarkPage = outObj.getNumPages()\n",
    "    \n",
    "    # append new file to the end\n",
    "    outObj.appendPagesFromReader(inputPdf)\n",
    "    \n",
    "    #inputIO.close()\n",
    "    # add bookmark pointing to 1st page of new file\n",
    "    bookmarkName = filename.split('-')[-1].split('.')[0]\n",
    "    outObj.addBookmark(title=bookmarkName, pagenum=bookmarkPage)\n",
    "\n",
    "for filename in sorted(glob.glob('*_sol.pdf')):\n",
    "    # open a file as inputpdf\n",
    "    #inputIO = open(filename,\"rb\")\n",
    "    inputPdf = PdfFileReader(open(filename,\"rb\"))\n",
    "    \n",
    "    # get last page before appending new file\n",
    "    bookmarkPage = outObj.getNumPages()\n",
    "    \n",
    "    # append new file to the end\n",
    "    outObj.appendPagesFromReader(inputPdf)\n",
    "    \n",
    "    #inputIO.close()\n",
    "    # add bookmark pointing to 1st page of new file\n",
    "    bookmarkName = '-'.join([filename.split('_')[-2]]+filename.split('_')[:2])\n",
    "    outObj.addBookmark(title=bookmarkName, pagenum=bookmarkPage)\n",
    "    \n",
    "    \n",
    "    \n",
    "    \n",
    "    \n",
    "    \n",
    "with open (\"MIT6-042J-fall2005-ALL-SOLUTIONS.pdf\", \"wb\") as outFile:\n",
    "    outObj.write(outFile)"
   ]
  },
  {
   "cell_type": "code",
   "execution_count": 33,
   "metadata": {
    "collapsed": true
   },
   "outputs": [],
   "source": [
    "filename = sorted(glob.glob('*_sol.pdf'))[0]"
   ]
  },
  {
   "cell_type": "code",
   "execution_count": 37,
   "metadata": {},
   "outputs": [
    {
     "data": {
      "text/plain": [
       "'lec01-MIT6-042JS10'"
      ]
     },
     "execution_count": 37,
     "metadata": {},
     "output_type": "execute_result"
    }
   ],
   "source": [
    "'-'.join([filename.split('_')[-2]]+filename.split('_')[:2])"
   ]
  },
  {
   "cell_type": "code",
   "execution_count": null,
   "metadata": {
    "collapsed": true
   },
   "outputs": [],
   "source": []
  }
 ],
 "metadata": {
  "kernelspec": {
   "display_name": "Python 3",
   "language": "python",
   "name": "python3"
  },
  "language_info": {
   "codemirror_mode": {
    "name": "ipython",
    "version": 3
   },
   "file_extension": ".py",
   "mimetype": "text/x-python",
   "name": "python",
   "nbconvert_exporter": "python",
   "pygments_lexer": "ipython3",
   "version": "3.6.1"
  }
 },
 "nbformat": 4,
 "nbformat_minor": 2
}
