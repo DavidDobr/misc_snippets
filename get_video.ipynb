{
 "cells": [
  {
   "cell_type": "code",
   "execution_count": 1,
   "metadata": {},
   "outputs": [
    {
     "name": "stdout",
     "output_type": "stream",
     "text": [
      "\u001b[0m\u001b[01;34m6-042j-spring-2015\u001b[0m/  imsmanifest.xml  plan.ods  plan.xlsx\r\n",
      "get_video.ipynb      mcs.pdf          plan.xls  \u001b[01;34mvideo\u001b[0m/\r\n"
     ]
    }
   ],
   "source": [
    "ls"
   ]
  },
  {
   "cell_type": "code",
   "execution_count": 2,
   "metadata": {
    "collapsed": true
   },
   "outputs": [],
   "source": [
    "import urllib.request\n",
    "import shutil\n",
    "\n",
    "def downlad_file(url, file_name):\n",
    "    with urllib.request.urlopen(url) as response, open(file_name, 'wb') as out_file:\n",
    "        shutil.copyfileobj(response, out_file)"
   ]
  },
  {
   "cell_type": "code",
   "execution_count": 3,
   "metadata": {
    "scrolled": false
   },
   "outputs": [],
   "source": [
    "from urllib.request import urlopen\n",
    "from bs4 import BeautifulSoup\n",
    "\n",
    "def parse_video_link(url):\n",
    "    html = urlopen(url)\n",
    "    soup = BeautifulSoup(html, 'html.parser')\n",
    "    for tag in soup.find_all('a', 'poplink'):\n",
    "        if tag['href'].split('/')[2] == 'archive.org':\n",
    "            return tag['href']"
   ]
  },
  {
   "cell_type": "code",
   "execution_count": 10,
   "metadata": {
    "scrolled": true
   },
   "outputs": [
    {
     "name": "stdout",
     "output_type": "stream",
     "text": [
      "38\n",
      "4.7_Sampling_&_Confidence.mp4                     : https://ocw.mit.edu/courses/electrical-engineering-and-computer-science/6-042j-mathematics-for-computer-science-spring-2015/probability/tp14-1\n",
      "----------------------------------------\n",
      "39\n",
      "4.8_Random_Walks_&_Pagerank.mp4                   : https://ocw.mit.edu/courses/electrical-engineering-and-computer-science/6-042j-mathematics-for-computer-science-spring-2015/probability/random-walks-pagerank\n",
      "----------------------------------------\n"
     ]
    }
   ],
   "source": [
    "import xlrd\n",
    "mainData_book = xlrd.open_workbook(\"plan.xls\", formatting_info=True)\n",
    "mainData_sheet = mainData_book.sheet_by_index(0)\n",
    "for row in range(1, 100):\n",
    "    rowValues = mainData_sheet.row_values(row, start_colx=0, end_colx=1)\n",
    "    lecture_name = rowValues[0]\n",
    "    lecture_name = lecture_name.replace(' ', '_') + '.mp4'\n",
    "\n",
    "    link = mainData_sheet.hyperlink_map.get((row, 0))\n",
    "    if link is None:\n",
    "        url = '(No URL)'\n",
    "    else:\n",
    "        url = link.url_or_path\n",
    "        print(row)\n",
    "        print(lecture_name.ljust(50) + ': ' + url)\n",
    "        downlad_file(parse_video_link(url),\n",
    "                     file_name='./video/' + lecture_name)\n",
    "        print('-'*40)"
   ]
  },
  {
   "cell_type": "code",
   "execution_count": null,
   "metadata": {
    "collapsed": true
   },
   "outputs": [],
   "source": []
  },
  {
   "cell_type": "code",
   "execution_count": null,
   "metadata": {
    "collapsed": true
   },
   "outputs": [],
   "source": []
  }
 ],
 "metadata": {
  "kernelspec": {
   "display_name": "Python 3",
   "language": "python",
   "name": "python3"
  },
  "language_info": {
   "codemirror_mode": {
    "name": "ipython",
    "version": 3
   },
   "file_extension": ".py",
   "mimetype": "text/x-python",
   "name": "python",
   "nbconvert_exporter": "python",
   "pygments_lexer": "ipython3",
   "version": "3.6.1"
  }
 },
 "nbformat": 4,
 "nbformat_minor": 2
}
