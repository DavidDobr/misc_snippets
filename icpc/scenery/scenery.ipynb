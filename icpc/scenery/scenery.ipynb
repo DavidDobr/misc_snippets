{
 "cells": [
  {
   "cell_type": "code",
   "execution_count": 24,
   "metadata": {
    "collapsed": true
   },
   "outputs": [],
   "source": [
    "from math import factorial\n",
    "import sys\n",
    "\n",
    "\n",
    "def can_make_pictures(IN):\n",
    "    \n",
    "    data = IN.readlines()\n",
    "    print(data)\n",
    "    \n",
    "    data = map(lambda x: x.strip('\\n'), data)\n",
    "    data = filter(lambda x: len(x) > 0, data) # remove empty lines\n",
    "    data = map(lambda x: list(map(int, x.split(' '))), data)\n",
    "    data = list(data)\n",
    "    \n",
    "    # The first line of the input contains two integers n (1≤n≤10**4) and t (1≤t≤10**5)\n",
    "    # where n is the number of desired photographs and t is the time you spend to take each photograph\n",
    "    n, t = data[0]\n",
    "    photos = data[1:]\n",
    "    photos = sorted(photos, key=lambda x: x[0]) # sort by earliest time\n",
    "\n",
    "    \n",
    "    max_perms = factorial(n) # n lines can be arranged in factorial(n) ways\n",
    "    cnt = 1\n",
    "\n",
    "    while cnt <= max_perms:\n",
    "        print('photos:',photos)\n",
    "        # T is the current global time\n",
    "        T = 0\n",
    "        for i in range(n):\n",
    "            line = photos[i]\n",
    "            a, b = line\n",
    "            if T <= a:\n",
    "                # if it's earlier than minimum time, we'll have to wait\n",
    "                T = a + t\n",
    "            elif T > a:\n",
    "                # if it's later than earliest time, start right away\n",
    "                T = T + t\n",
    "            print('i =', i)\n",
    "            print('line =', line)\n",
    "            print('a, b =',a,b)\n",
    "            print('T =',T)\n",
    "\n",
    "            # check if can make (i)th picture\n",
    "            if T <= b:\n",
    "                #ok\n",
    "                # if this is the last element and it passed the test,\n",
    "                # then we can make the pictures! Otherwise, continue\n",
    "                print('i+1, n, i+1==n', i+1, n, i+1==n)\n",
    "                if i+1 == n:\n",
    "                    return 'yes'\n",
    "                    sys.exit()\n",
    "                else:\n",
    "                    pass\n",
    "            elif T > b:\n",
    "                # FAIL!\n",
    "                # move current element to the start\n",
    "                print(\"T > b: {} > {}\".format(T, b))\n",
    "                print(\"Moving {}th element to start\".format(i))\n",
    "                photos[0], photos[i] = photos[i], photos[0]\n",
    "                print('photos =', photos)\n",
    "                break # kill the FOR loop\n",
    "\n",
    "            print('.'*25)\n",
    "        cnt += 1\n",
    "        print('='*30)\n",
    "\n",
    "    # <-- this point is reached only if no permutations were successfull\n",
    "    # therefor it is not possible to take all the pictures\n",
    "    return 'no'"
   ]
  },
  {
   "cell_type": "code",
   "execution_count": 30,
   "metadata": {
    "scrolled": false
   },
   "outputs": [
    {
     "name": "stdout",
     "output_type": "stream",
     "text": [
      "['2 10\\n', '0 15\\n', '5 20\\n']\n",
      "photos: [[0, 15], [5, 20]]\n",
      "i = 0\n",
      "line = [0, 15]\n",
      "a, b = 0 15\n",
      "T = 10\n",
      "i+1, n, i+1==n 1 2 False\n",
      ".........................\n",
      "i = 1\n",
      "line = [5, 20]\n",
      "a, b = 5 20\n",
      "T = 20\n",
      "i+1, n, i+1==n 2 2 True\n",
      "ANSWER:  yes\n"
     ]
    }
   ],
   "source": [
    "with open('1.in') as file:\n",
    "    print('ANSWER: ', can_make_pictures(file))"
   ]
  },
  {
   "cell_type": "code",
   "execution_count": 31,
   "metadata": {},
   "outputs": [
    {
     "name": "stdout",
     "output_type": "stream",
     "text": [
      "['2 10\\n', '1 15\\n', '0 20\\n']\n",
      "photos: [[0, 20], [1, 15]]\n",
      "i = 0\n",
      "line = [0, 20]\n",
      "a, b = 0 20\n",
      "T = 10\n",
      "i+1, n, i+1==n 1 2 False\n",
      ".........................\n",
      "i = 1\n",
      "line = [1, 15]\n",
      "a, b = 1 15\n",
      "T = 20\n",
      "T > b: 20 > 15\n",
      "Moving 1th element to start\n",
      "photos = [[1, 15], [0, 20]]\n",
      "==============================\n",
      "photos: [[1, 15], [0, 20]]\n",
      "i = 0\n",
      "line = [1, 15]\n",
      "a, b = 1 15\n",
      "T = 11\n",
      "i+1, n, i+1==n 1 2 False\n",
      ".........................\n",
      "i = 1\n",
      "line = [0, 20]\n",
      "a, b = 0 20\n",
      "T = 21\n",
      "T > b: 21 > 20\n",
      "Moving 1th element to start\n",
      "photos = [[0, 20], [1, 15]]\n",
      "==============================\n",
      "ANSWER:  no\n"
     ]
    }
   ],
   "source": [
    "with open('2.in') as file:\n",
    "    print('ANSWER: ', can_make_pictures(file))"
   ]
  },
  {
   "cell_type": "code",
   "execution_count": 32,
   "metadata": {},
   "outputs": [
    {
     "name": "stdout",
     "output_type": "stream",
     "text": [
      "['2 10\\n', '5 30\\n', '10 20\\n']\n",
      "photos: [[5, 30], [10, 20]]\n",
      "i = 0\n",
      "line = [5, 30]\n",
      "a, b = 5 30\n",
      "T = 15\n",
      "i+1, n, i+1==n 1 2 False\n",
      ".........................\n",
      "i = 1\n",
      "line = [10, 20]\n",
      "a, b = 10 20\n",
      "T = 25\n",
      "T > b: 25 > 20\n",
      "Moving 1th element to start\n",
      "photos = [[10, 20], [5, 30]]\n",
      "==============================\n",
      "photos: [[10, 20], [5, 30]]\n",
      "i = 0\n",
      "line = [10, 20]\n",
      "a, b = 10 20\n",
      "T = 20\n",
      "i+1, n, i+1==n 1 2 False\n",
      ".........................\n",
      "i = 1\n",
      "line = [5, 30]\n",
      "a, b = 5 30\n",
      "T = 30\n",
      "i+1, n, i+1==n 2 2 True\n",
      "ANSWER:  yes\n"
     ]
    }
   ],
   "source": [
    "with open('3.in') as file:\n",
    "    print('ANSWER: ', can_make_pictures(file))"
   ]
  },
  {
   "cell_type": "code",
   "execution_count": null,
   "metadata": {
    "collapsed": true
   },
   "outputs": [],
   "source": [
    "# run when compiler runs my script\n",
    "\n",
    "if __name__ == \"__main__\":\n",
    "    # read data from standard input\n",
    "    print(can_make_pictures(sys.stdin))"
   ]
  }
 ],
 "metadata": {
  "kernelspec": {
   "display_name": "Python 3",
   "language": "python",
   "name": "python3"
  },
  "language_info": {
   "codemirror_mode": {
    "name": "ipython",
    "version": 3
   },
   "file_extension": ".py",
   "mimetype": "text/x-python",
   "name": "python",
   "nbconvert_exporter": "python",
   "pygments_lexer": "ipython3",
   "version": "3.6.1"
  }
 },
 "nbformat": 4,
 "nbformat_minor": 2
}
