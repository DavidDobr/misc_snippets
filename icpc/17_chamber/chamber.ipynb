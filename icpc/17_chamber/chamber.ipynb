{
 "cells": [
  {
   "cell_type": "code",
   "execution_count": 1,
   "metadata": {},
   "outputs": [],
   "source": [
    "def dfs(graph, start):\n",
    "    \"\"\"depth first search\n",
    "    ARGS:\n",
    "    =====\n",
    "        @graph - graph to crawl\n",
    "        @start - name of starting vertice\n",
    "    \n",
    "    RETURNS:\n",
    "    ========\n",
    "        list of letters that 'start' can be translated into\n",
    "    \"\"\"\n",
    "    visited, stack = set(), [start]\n",
    "    while stack:\n",
    "        vertex = stack.pop()\n",
    "        if vertex not in visited:\n",
    "            visited.add(vertex)\n",
    "            try:\n",
    "                stack.extend(graph[vertex] - visited)\n",
    "            except KeyError:\n",
    "                pass\n",
    "    return visited\n",
    "\n",
    "#dfs(graph, 'c') # {'E', 'D', 'F', 'A', 'C', 'B'}"
   ]
  },
  {
   "cell_type": "code",
   "execution_count": 2,
   "metadata": {},
   "outputs": [],
   "source": [
    "def check_word_pair(w_pair, graph):\n",
    "    # if word lentth don't match, then words can't match\n",
    "    if len(w_pair[0]) != len(w_pair[1]): return 'no'\n",
    "    \n",
    "    letter_pairs = list(zip(w_pair[0], w_pair[1]))\n",
    "    for p in letter_pairs:\n",
    "#        print('-'*30)\n",
    "#        print(p)\n",
    "        if p[0] == p[1]:\n",
    "#            print(\"'{}' = '{}', ok\".format(p[0], p[1]))\n",
    "            pass # ok\n",
    "        elif p[0] != p[1]:\n",
    "#            print(\"'{}' translates to {}\".format(p[0], dfs(graph, p[0])))\n",
    "            if p[1] in dfs(graph, p[0]):\n",
    "                pass\n",
    "#                print(\"'{}' in '{}', ok!\".format(p[1], dfs(graph, p[0])))\n",
    "            elif p[1] not in dfs(graph, p[0]):\n",
    "                # return false if can't translate\n",
    "                return 'no'\n",
    "    return 'yes'\n",
    "\n"
   ]
  },
  {
   "cell_type": "code",
   "execution_count": 3,
   "metadata": {},
   "outputs": [],
   "source": [
    "def test_cypher(IN):\n",
    "\n",
    "    # m = number of cypher letter pairs\n",
    "    # n = number of cyphered WORD pairs\n",
    "    m, n = map(int, IN.readline().split(' '))\n",
    "    m, n\n",
    "    \n",
    "    graph = {}\n",
    "\n",
    "    # collect all translations\n",
    "    # Each of the next m lines contains two distinct space-separated letters a and b,\n",
    "    # indicating that the letter a can be translated to the letter b.\n",
    "    # Each ordered pair of letters (a,b) appears at most once.\n",
    "    for _ in range(m):\n",
    "        # extract mapping of letters from current line\n",
    "        a, b = map(lambda x: x.strip('\\n'), IN.readline().split(' '))\n",
    "\n",
    "        # if a not in graph, add it's translation AND itself\n",
    "        if a not in graph:\n",
    "            graph[a] = set(b)\n",
    "            graph[a].add(a)\n",
    "        else:\n",
    "            graph[a].add(b)\n",
    "\n",
    "    # graph is 'naive' graph without recursing into chained routes\n",
    "    \n",
    "    # now COLLECT all cyphered word pairs in an ordered list\n",
    "    word_pairs = []\n",
    "    for _ in range(n):\n",
    "        left, right = map(lambda x: x.strip('\\n'), IN.readline().split(' '))\n",
    "        word_pairs.append((left, right))\n",
    "        \n",
    "    # now check every word pair for decypherability and print 'yes' or 'no\n",
    "    for w in word_pairs:\n",
    "        print(check_word_pair(w, graph))\n",
    "\n",
    "#IN = open('1.in')\n",
    "#test_cypher(IN)\n",
    "#IN.close()"
   ]
  },
  {
   "cell_type": "code",
   "execution_count": 5,
   "metadata": {},
   "outputs": [
    {
     "name": "stdout",
     "output_type": "stream",
     "text": [
      "9 5\r\n",
      "c t\r\n",
      "i r\r\n",
      "k p\r\n",
      "o c\r\n",
      "r o\r\n",
      "t e\r\n",
      "t f\r\n",
      "u h\r\n",
      "w p\r\n",
      "we we\r\n",
      "can the\r\n",
      "work people\r\n",
      "it of\r\n",
      "out the\r\n"
     ]
    }
   ],
   "source": [
    "#cat 1.in"
   ]
  },
  {
   "cell_type": "code",
   "execution_count": 4,
   "metadata": {
    "scrolled": true
   },
   "outputs": [
    {
     "ename": "ValueError",
     "evalue": "invalid literal for int() with base 10: ''",
     "output_type": "error",
     "traceback": [
      "\u001b[0;31m---------------------------------------------------------------------------\u001b[0m",
      "\u001b[0;31mValueError\u001b[0m                                Traceback (most recent call last)",
      "\u001b[0;32m<ipython-input-4-1e6b82fd86a5>\u001b[0m in \u001b[0;36m<module>\u001b[0;34m()\u001b[0m\n\u001b[1;32m      3\u001b[0m \u001b[0;32mif\u001b[0m \u001b[0m__name__\u001b[0m \u001b[0;34m==\u001b[0m \u001b[0;34m\"__main__\"\u001b[0m\u001b[0;34m:\u001b[0m\u001b[0;34m\u001b[0m\u001b[0m\n\u001b[1;32m      4\u001b[0m     \u001b[0;31m# read data from standard input\u001b[0m\u001b[0;34m\u001b[0m\u001b[0;34m\u001b[0m\u001b[0m\n\u001b[0;32m----> 5\u001b[0;31m     \u001b[0mtest_cypher\u001b[0m\u001b[0;34m(\u001b[0m\u001b[0msys\u001b[0m\u001b[0;34m.\u001b[0m\u001b[0mstdin\u001b[0m\u001b[0;34m)\u001b[0m\u001b[0;34m\u001b[0m\u001b[0m\n\u001b[0m",
      "\u001b[0;32m<ipython-input-3-e0a9a11b7206>\u001b[0m in \u001b[0;36mtest_cypher\u001b[0;34m(IN)\u001b[0m\n\u001b[1;32m      3\u001b[0m     \u001b[0;31m# m = number of cypher letter pairs\u001b[0m\u001b[0;34m\u001b[0m\u001b[0;34m\u001b[0m\u001b[0m\n\u001b[1;32m      4\u001b[0m     \u001b[0;31m# n = number of cyphered WORD pairs\u001b[0m\u001b[0;34m\u001b[0m\u001b[0;34m\u001b[0m\u001b[0m\n\u001b[0;32m----> 5\u001b[0;31m     \u001b[0mm\u001b[0m\u001b[0;34m,\u001b[0m \u001b[0mn\u001b[0m \u001b[0;34m=\u001b[0m \u001b[0mmap\u001b[0m\u001b[0;34m(\u001b[0m\u001b[0mint\u001b[0m\u001b[0;34m,\u001b[0m \u001b[0mIN\u001b[0m\u001b[0;34m.\u001b[0m\u001b[0mreadline\u001b[0m\u001b[0;34m(\u001b[0m\u001b[0;34m)\u001b[0m\u001b[0;34m.\u001b[0m\u001b[0msplit\u001b[0m\u001b[0;34m(\u001b[0m\u001b[0;34m' '\u001b[0m\u001b[0;34m)\u001b[0m\u001b[0;34m)\u001b[0m\u001b[0;34m\u001b[0m\u001b[0m\n\u001b[0m\u001b[1;32m      6\u001b[0m     \u001b[0mm\u001b[0m\u001b[0;34m,\u001b[0m \u001b[0mn\u001b[0m\u001b[0;34m\u001b[0m\u001b[0m\n\u001b[1;32m      7\u001b[0m \u001b[0;34m\u001b[0m\u001b[0m\n",
      "\u001b[0;31mValueError\u001b[0m: invalid literal for int() with base 10: ''"
     ]
    }
   ],
   "source": [
    "import sys\n",
    "\n",
    "if __name__ == \"__main__\":\n",
    "    # read data from standard input\n",
    "    test_cypher(sys.stdin)"
   ]
  },
  {
   "cell_type": "code",
   "execution_count": null,
   "metadata": {
    "collapsed": true
   },
   "outputs": [],
   "source": []
  }
 ],
 "metadata": {
  "kernelspec": {
   "display_name": "Python 3",
   "language": "python",
   "name": "python3"
  },
  "language_info": {
   "codemirror_mode": {
    "name": "ipython",
    "version": 3
   },
   "file_extension": ".py",
   "mimetype": "text/x-python",
   "name": "python",
   "nbconvert_exporter": "python",
   "pygments_lexer": "ipython3",
   "version": "3.6.1"
  }
 },
 "nbformat": 4,
 "nbformat_minor": 2
}
