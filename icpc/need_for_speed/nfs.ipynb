{
 "cells": [
  {
   "cell_type": "code",
   "execution_count": 1,
   "metadata": {},
   "outputs": [],
   "source": [
    "#cat 2.in"
   ]
  },
  {
   "cell_type": "code",
   "execution_count": 2,
   "metadata": {},
   "outputs": [
    {
     "data": {
      "text/plain": [
       "[[4, -1], [4, 0], [10, 3]]"
      ]
     },
     "execution_count": 2,
     "metadata": {},
     "output_type": "execute_result"
    }
   ],
   "source": [
    "IN = open('1.in')\n",
    "\n",
    "#import sys\n",
    "#IN = sys.stdin\n",
    "\n",
    "# m = number of cypher letter pairs\n",
    "# n = number of cyphered WORD pairs\n",
    "n, t = map(int, IN.readline().split(' '))\n",
    "\n",
    "data = []\n",
    "\n",
    "for _ in range(n):\n",
    "    data.append(list(map(lambda x: int(x.strip('\\n')), IN.readline().split(' '))))\n",
    "\n",
    "# data = [distance, real speed + const]\n",
    "data"
   ]
  },
  {
   "cell_type": "code",
   "execution_count": 3,
   "metadata": {},
   "outputs": [
    {
     "data": {
      "text/plain": [
       "-1"
      ]
     },
     "execution_count": 3,
     "metadata": {},
     "output_type": "execute_result"
    }
   ],
   "source": [
    "min_observed = min([x[1] for x in data])\n",
    "min_observed"
   ]
  },
  {
   "cell_type": "code",
   "execution_count": 4,
   "metadata": {},
   "outputs": [
    {
     "data": {
      "text/plain": [
       "1"
      ]
     },
     "execution_count": 4,
     "metadata": {},
     "output_type": "execute_result"
    }
   ],
   "source": [
    "if min_observed < 0:\n",
    "    c_min = abs(min_observed)\n",
    "else:\n",
    "    c_min = 0\n",
    "    \n",
    "c_min"
   ]
  },
  {
   "cell_type": "code",
   "execution_count": 5,
   "metadata": {
    "scrolled": true
   },
   "outputs": [
    {
     "data": {
      "text/plain": [
       "[4, 4, 10]"
      ]
     },
     "execution_count": 5,
     "metadata": {},
     "output_type": "execute_result"
    }
   ],
   "source": [
    "distances = [x[0] for x in data]\n",
    "distances"
   ]
  },
  {
   "cell_type": "code",
   "execution_count": 6,
   "metadata": {},
   "outputs": [
    {
     "data": {
      "text/plain": [
       "[[4, -1], [4, 0], [10, 3]]"
      ]
     },
     "execution_count": 6,
     "metadata": {},
     "output_type": "execute_result"
    }
   ],
   "source": [
    "data"
   ]
  },
  {
   "cell_type": "code",
   "execution_count": 9,
   "metadata": {
    "scrolled": true
   },
   "outputs": [],
   "source": [
    "def time_for_c(c, observed_data=data):\n",
    "    distances = [x[0] for x in observed_data]\n",
    "    real_speeds = [x[1]+c for x in observed_data]\n",
    "    real_data = list(zip(distances, real_speeds))\n",
    "    times = [x[0]/x[1] for x in real_data]\n",
    "    return sum(times)\n",
    "\n",
    "# time_for_c(c_min + 0.001, data)"
   ]
  },
  {
   "cell_type": "code",
   "execution_count": 10,
   "metadata": {},
   "outputs": [
    {
     "name": "stdout",
     "output_type": "stream",
     "text": [
      "3.0000000016760153\n"
     ]
    }
   ],
   "source": [
    "def dx(fn, x, delta=0.001):\n",
    "    return (fn(x+delta) - fn(x))/delta\n",
    "\n",
    "def time_solver(fn, target=t, maxtries=1000, maxerr=10**(-6), x=c_min):\n",
    "    \"\"\"solver for time\n",
    "    ARGS:\n",
    "    =====\n",
    "        @fn - function to plug x in\n",
    "        @target - target value\n",
    "        @maxtires - max # of iterations\n",
    "        @maxerr - max error; according to problem, should be less than 10**(-6)\n",
    "        @x - starting point\n",
    "    \"\"\"\n",
    "    x += maxerr/2 # to avoid division by zero\n",
    "    \n",
    "    for tries in range(maxtries):\n",
    "        err = fn(x) - target\n",
    "        if abs(err) < maxerr:\n",
    "            return x\n",
    "        slope = dx(fn, x)\n",
    "        if slope == 0:\n",
    "            x += maxerr\n",
    "        else:\n",
    "            x -= err/slope\n",
    "    raise ValueError('no solution found')\n",
    "\n",
    "print(time_solver(time_for_c))"
   ]
  },
  {
   "cell_type": "code",
   "execution_count": null,
   "metadata": {
    "collapsed": true
   },
   "outputs": [],
   "source": []
  }
 ],
 "metadata": {
  "kernelspec": {
   "display_name": "Python 3",
   "language": "python",
   "name": "python3"
  },
  "language_info": {
   "codemirror_mode": {
    "name": "ipython",
    "version": 3
   },
   "file_extension": ".py",
   "mimetype": "text/x-python",
   "name": "python",
   "nbconvert_exporter": "python",
   "pygments_lexer": "ipython3",
   "version": "3.6.1"
  }
 },
 "nbformat": 4,
 "nbformat_minor": 2
}
