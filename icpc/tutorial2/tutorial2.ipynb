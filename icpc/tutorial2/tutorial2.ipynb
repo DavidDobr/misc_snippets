{
 "cells": [
  {
   "cell_type": "code",
   "execution_count": 1,
   "metadata": {},
   "outputs": [
    {
     "name": "stdout",
     "output_type": "stream",
     "text": [
      "sample.ans  sample.in  tutorial2.ipynb\r\n"
     ]
    }
   ],
   "source": [
    "ls"
   ]
  },
  {
   "cell_type": "code",
   "execution_count": 2,
   "metadata": {},
   "outputs": [
    {
     "name": "stdout",
     "output_type": "stream",
     "text": [
      "10 12\r\n",
      "71293781758123 72784\r\n",
      "1 12345677654321\r\n"
     ]
    }
   ],
   "source": [
    "cat sample.in"
   ]
  },
  {
   "cell_type": "code",
   "execution_count": 2,
   "metadata": {
    "collapsed": true
   },
   "outputs": [],
   "source": [
    "# For each pair of integers in the input, output one line,\n",
    "# containing the absolute value of their difference\n",
    "with open('sample.in') as file:\n",
    "    data = map(lambda x: list(map(int, x.strip('\\n').split(' '))), file.readlines())\n",
    "data = list(data)"
   ]
  },
  {
   "cell_type": "code",
   "execution_count": 5,
   "metadata": {
    "scrolled": false
   },
   "outputs": [
    {
     "name": "stdout",
     "output_type": "stream",
     "text": [
      "yes\n",
      "\n"
     ]
    }
   ],
   "source": [
    "with open('1.ans') as file: print(file.readline())"
   ]
  },
  {
   "cell_type": "code",
   "execution_count": 8,
   "metadata": {},
   "outputs": [
    {
     "name": "stdout",
     "output_type": "stream",
     "text": [
      "2\r\n",
      "71293781685339\r\n",
      "12345677654320\r\n"
     ]
    }
   ],
   "source": [
    "cat sample.ans"
   ]
  },
  {
   "cell_type": "code",
   "execution_count": 7,
   "metadata": {},
   "outputs": [
    {
     "name": "stdout",
     "output_type": "stream",
     "text": [
      "[10, 12]\n",
      "-2\n",
      "2\n",
      "------------------------------\n",
      "[71293781758123, 72784]\n",
      "71293781685339\n",
      "71293781685339\n",
      "------------------------------\n",
      "[1, 12345677654321]\n",
      "-12345677654320\n",
      "12345677654320\n",
      "------------------------------\n"
     ]
    }
   ],
   "source": [
    "from sys import stdin\n",
    "\n",
    "with open('sample.in') as file:\n",
    "    for line in file:\n",
    "        data = list(map(int, line.split(' ')))\n",
    "        diff = data[0] - data[1]\n",
    "        print(abs(diff))\n"
   ]
  },
  {
   "cell_type": "code",
   "execution_count": null,
   "metadata": {
    "collapsed": true
   },
   "outputs": [],
   "source": [
    "from sys import stdin\n",
    "\n",
    "for line in stdin:\n",
    "    data = list(map(int, line.split(' ')))\n",
    "    diff = data[0] - data[1]\n",
    "    print(abs(diff))\n"
   ]
  }
 ],
 "metadata": {
  "kernelspec": {
   "display_name": "Python 3",
   "language": "python",
   "name": "python3"
  },
  "language_info": {
   "codemirror_mode": {
    "name": "ipython",
    "version": 3
   },
   "file_extension": ".py",
   "mimetype": "text/x-python",
   "name": "python",
   "nbconvert_exporter": "python",
   "pygments_lexer": "ipython3",
   "version": "3.6.1"
  }
 },
 "nbformat": 4,
 "nbformat_minor": 2
}
